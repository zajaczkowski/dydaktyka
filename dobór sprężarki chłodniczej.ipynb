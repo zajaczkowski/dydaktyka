{
 "cells": [
  {
   "cell_type": "markdown",
   "metadata": {},
   "source": [
    "## Dobór sprężarki chłodniczej na podstawie katalogu producenta"
   ]
  },
  {
   "cell_type": "code",
   "execution_count": 1,
   "metadata": {
    "collapsed": false
   },
   "outputs": [
    {
     "name": "stdout",
     "output_type": "stream",
     "text": [
      "Populating the interactive namespace from numpy and matplotlib\n"
     ]
    }
   ],
   "source": [
    "# get rid of error messages\n",
    "import warnings;warnings.simplefilter('ignore')\n",
    "\n",
    "# set up modules\n",
    "%pylab inline\n",
    "rcParams['savefig.dpi'] = 120\n",
    "%config InlineBackend.figure_format = 'retina'\n",
    "\n",
    "import CoolProp\n",
    "import CoolProp.CoolProp as CP"
   ]
  },
  {
   "cell_type": "markdown",
   "metadata": {},
   "source": [
    "### Założone parametry obiegu chłodniczego\n",
    "Sprężarkę dobiera się dla założonych parametrów obiegu chłodniczego/pompy ciepła:\n",
    "* wydajności chłodniczej $Q_0$\n",
    "* temperatury parowana $T_0$ (z uwzglednieniem ewnetualnego przegrzania $\\Delta T_{sup}$)\n",
    "* temperatury skraplania $T_k$"
   ]
  },
  {
   "cell_type": "code",
   "execution_count": 2,
   "metadata": {
    "collapsed": true
   },
   "outputs": [],
   "source": [
    "Q_0 = 12 * 1e3 # [kW] - wydajność grzewcza systemu chłodniczego\n",
    "\n",
    "T_0 = 0 + 273.15 # [K] - temperatura wrzenia czynnika chłodniczego\n",
    "T_k = 40 + 273.15 # [K] - temperatura skraplania czynnika chłodniczego\n",
    "\n",
    "dT_sup = 10 # [°C] - przegrzanie"
   ]
  },
  {
   "cell_type": "markdown",
   "metadata": {},
   "source": [
    "### Identyfikacja obiegu chłodniczego dla wskazanego czynnika i parametrów\n",
    "\n",
    "Przystępując do identyfikacji w pierwszej kolejności należy wskazać czynnik chłodniczy, który docelowo ma funkcjonować w projektowanym obiegu."
   ]
  },
  {
   "cell_type": "code",
   "execution_count": 3,
   "metadata": {
    "collapsed": true
   },
   "outputs": [],
   "source": [
    "refrigerant = \"R1234yf\""
   ]
  },
  {
   "cell_type": "markdown",
   "metadata": {},
   "source": [
    "Następnie wyznacza się ciśnienia pracy dla założonych temperatur parowania i skraplania oraz oblicza się wartości entalpii w punktach charakterystycznych obiegu. Znajomość entalpii pozwala obliczyć właściwe ciepło parowania, skraplania oraz właściwą pracę sprężania. \n",
    "\n",
    "Ciepło właściwe parowania:\n",
    "$$q_0 = h_1 - h_4$$\n",
    "Ciepło właściwe skraplania:\n",
    "$$q_k = h_2 - h_3$$\n",
    "Właściwa praca obiegu:\n",
    "$$l_{ob} = h_2 - h_1$$\n",
    "\n",
    "W następnej kolejności można obliczyć strumień masy czynnika chłodniczego, teoretyczną wydajność cieplną skraplacza oraz teoretyczną moc sprężarki.\n",
    "\n",
    "Strumień masy czynnika chłodniczego:\n",
    "$$m_0 = \\frac{Q_0}{q_0}$$\n",
    "\n",
    "Teoretyczna wydajność cieplna skraplacza:\n",
    "$$Q_k = m_0 \\cdot q_k$$\n",
    "\n",
    "Teoretyczna moc sprężarki:\n",
    "$$L = m_0 \\cdot l_{ob}$$"
   ]
  },
  {
   "cell_type": "code",
   "execution_count": 4,
   "metadata": {
    "collapsed": false
   },
   "outputs": [
    {
     "name": "stdout",
     "output_type": "stream",
     "text": [
      "* Strumień masy czynnika chłodniczego: 0.102 [kg/s]\n",
      "* Wydajność parownika: 12.000 [kW]\n",
      "* Wydajność skraplacza: 14.252 [kW]\n",
      "* Teoretyczna moc sprężarki: 2.252 [kW]\n"
     ]
    }
   ],
   "source": [
    "p_0 = CP.PropsSI('P','Q',1,'T',T_0,refrigerant)\n",
    "p_k = CP.PropsSI('P','Q',1,'T',T_k,refrigerant)\n",
    "\n",
    "if dT_sup > 0: h1 = CP.PropsSI('H','P',p_0,'T',T_0+dT_sup,refrigerant)\n",
    "else: h1 = CP.PropsSI('H','Q',1,'T',T_0,refrigerant)\n",
    "    \n",
    "s1 = CP.PropsSI('S','H',h1,'P',p_0,refrigerant)\n",
    "h2 = CP.PropsSI('H','S',s1,'P',p_k,refrigerant)\n",
    "h3 = CP.PropsSI('H','Q',0,'T',T_k,refrigerant)\n",
    "h4 = h3\n",
    "\n",
    "# właściwa wydajność chłodnicza, grzewcza oraz praca obiegu\n",
    "q_0 = h1 - h4\n",
    "q_k = h2 - h3\n",
    "l_ob = h2 - h1\n",
    "\n",
    "# strumień masy czynnika chłodniczego\n",
    "m_0 = Q_0 / q_0\n",
    "print (\"* Strumień masy czynnika chłodniczego: %.3f [kg/s]\" % m_0)\n",
    "\n",
    "L = m_0 * l_ob\n",
    "Q_k = m_0 * q_k\n",
    "print (\"* Wydajność parownika: %.3f [kW]\" % (Q_0/1e3))\n",
    "print (\"* Wydajność skraplacza: %.3f [kW]\" % (Q_k/1e3))\n",
    "print (\"* Teoretyczna moc sprężarki: %.3f [kW]\" % (L/1e3))"
   ]
  },
  {
   "cell_type": "markdown",
   "metadata": {},
   "source": [
    "### Dobór sprężarki chłodniczej dla wskazanych parametrów obiegu i czynnika referencyjnego"
   ]
  },
  {
   "cell_type": "markdown",
   "metadata": {},
   "source": [
    "Z katalogu należy **dobrać sprężarkę** dla wybrany czynnika chłodniczego, określanego tutaj jako referencyjny (np. R22 lub R134a). Jest to czynnik chłodniczy, dla którego producent sprężarki przygotował charakterystykę pracy urządzenia. "
   ]
  },
  {
   "cell_type": "code",
   "execution_count": 5,
   "metadata": {
    "collapsed": true
   },
   "outputs": [],
   "source": [
    "refrigerant_ref = \"R22\" # czynnik referencyjny do doboru sprężarki"
   ]
  },
  {
   "cell_type": "markdown",
   "metadata": {},
   "source": [
    "Posługując się kartą katalogową, należy ustalić wartości trzech parametrów pracy urządzenia. Parametrów które zostaną następnie wykorzystane do przeliczenia wydajności ziębniczej i mocy sprężarki na wartości osiągane przy zastosowaniu docelowego czynnika. Są to:\n",
    "* Pojemność skokowa [m3/h]\n",
    "* Wydajność ziębnicza w założonym punkcie pracy [W]\n",
    "* Rzeczywista moc sprężarki w założonym punkcie pracy [W]\n",
    "\n",
    "Przykładowego doboru można dokonać np. na podstawie katalogu: http://www.elektronika-sa.com.pl/."
   ]
  },
  {
   "cell_type": "code",
   "execution_count": 6,
   "metadata": {
    "collapsed": false
   },
   "outputs": [
    {
     "name": "stdout",
     "output_type": "stream",
     "text": [
      "* Teoretyczny strumień objętości pary przetłaczany przez sprężarkę: 16.730 [m3/h]\n",
      "* Rzeczywista wydajność ziębnicza sprężarki (z katalogu): 12555.000 [W]\n",
      "* Moc sprężarki (z katalogu): 3794.000 [W]\n"
     ]
    }
   ],
   "source": [
    "# pojemność/objętość skokowa\n",
    "V_sp = 16.73\n",
    "print (\"* Teoretyczny strumień objętości pary przetłaczany przez sprężarkę: %.3f [m3/h]\" % (V_sp))\n",
    "\n",
    "# rzeczywista wydajność sprężarki\n",
    "V_sp_rz_ref = 12555 # [W] - przykładowa wartość wprowadzona na podstawie katalogu\n",
    "print (\"* Rzeczywista wydajność ziębnicza sprężarki (z katalogu): %.3f [W]\" % (V_sp_rz_ref)) \n",
    "\n",
    "# rzeczywista moc sprężarki\n",
    "L_sp_rz_ref = 3794 # [W] -  przykładowa wartość wprowadzona na podstawie katalogu\n",
    "print (\"* Moc sprężarki (z katalogu): %.3f [W]\" % (L_sp_rz_ref)) "
   ]
  },
  {
   "cell_type": "markdown",
   "metadata": {},
   "source": [
    "### Obliczenia obiegu chłodniczego dla czynnika referencyjnego\n",
    "\n",
    "Następnie należy przeprowadzić identyfikację obiegu chłodniczego dla czynnika referencyjnego (w podobny sposób jak czynnika docelowego). Jej zasadniczym celem jest ustalenie strumienia przepływu masy czynnika chłodniczego oraz objętości właściwej par czynnika na wlocie do sprężarki. Umożliwi to obliczenie właściwej objętościowej wydajności ziębienia oraz teoretycznej wydajności ziębienia, a także teoretycznej mocy ziębienia dla wybranej sprężarki (i czynnika referencyjnego)."
   ]
  },
  {
   "cell_type": "code",
   "execution_count": 7,
   "metadata": {
    "collapsed": false,
    "scrolled": true
   },
   "outputs": [
    {
     "name": "stdout",
     "output_type": "stream",
     "text": [
      "* Strumień masy czynnika chłodniczego: 0.077 [kg/s]\n",
      "* Strumień objętości pary przetłaczany przez sprężarkę: 13.778 [m3/h]\n",
      "* Właściwa objętościowa wydajność ziębienia: 3280409.589 [J/m3]\n",
      "* Teoretyczna wydajność ziębienia sprężarki: 15244.792 [W]\n",
      "* Teoretyczna moc sprężarki: 2278.660 [W]\n"
     ]
    }
   ],
   "source": [
    "# obliczenia obiegu\n",
    "p_0_ref = CP.PropsSI('P','Q',1,'T',T_0,refrigerant_ref)\n",
    "p_k_ref = CP.PropsSI('P','Q',1,'T',T_k,refrigerant_ref)\n",
    "\n",
    "if dT_sup > 0: h1_ref = CP.PropsSI('H','P',p_0_ref,'T',T_0+dT_sup,refrigerant_ref)\n",
    "else: h1_ref = CP.PropsSI('H','Q',1,'T',T_0,refrigerant_ref)\n",
    "    \n",
    "s1_ref = CP.PropsSI('S','H',h1_ref,'P',p_0_ref,refrigerant_ref)\n",
    "h2_ref = CP.PropsSI('H','S',s1_ref,'P',p_k_ref,refrigerant_ref)\n",
    "h3_ref = CP.PropsSI('H','Q',0,'T',T_k,refrigerant_ref)\n",
    "h4_ref = h3_ref\n",
    "\n",
    "# właściwa wydajność chłodnicza parownika i praca sprężarki\n",
    "q_0_ref = h1_ref - h4_ref\n",
    "l_ob_ref = h2_ref - h1_ref\n",
    "\n",
    "# strumień masy czynnika chłodniczego dla zakładanej wydajności chłodniczej\n",
    "m_0_ref = V_sp_rz_ref / q_0_ref\n",
    "print (\"* Strumień masy czynnika chłodniczego: %.3f [kg/s]\" % m_0_ref)\n",
    "\n",
    "# objętość właściwa par czynnika obliczanego\n",
    "v1_ref = 1 / CP.PropsSI('D','H',h1_ref,'P',p_0_ref,refrigerant_ref)\n",
    "\n",
    "# rzeczywisty strumień objętości pary przetłaczanej przez sprężarkę\n",
    "V_z_ref = (m_0_ref * v1_ref) * 3600\n",
    "print (\"* Strumień objętości pary przetłaczany przez sprężarkę: %.3f [m3/h]\" % (V_z_ref))\n",
    "\n",
    "# właściwa objętościowa wydajność ziębienia\n",
    "q_v_ref = q_0_ref / v1_ref\n",
    "print (\"* Właściwa objętościowa wydajność ziębienia: %.3f [J/m3]\" % (q_v_ref))\n",
    "\n",
    "V_sp_t_ref = V_sp * q_v_ref / (3600)\n",
    "print (\"* Teoretyczna wydajność ziębienia sprężarki: %.3f [W]\" % (V_sp_t_ref))\n",
    "\n",
    "L_ob_ref = m_0_ref * l_ob_ref\n",
    "print (\"* Teoretyczna moc sprężarki: %.3f [W]\" % (L_ob_ref))"
   ]
  },
  {
   "cell_type": "markdown",
   "metadata": {},
   "source": [
    "### Sprawdzenie warunku sprężu\n",
    "Przed przystąpieniem do dalszych obliczeń należy przyjrzeć się jaki spręż jest niezbędny do realizacji sprężania obu analizowanych czynników. W ogólnym rozumieniu stopień dostarczania sprężarki jest proporcjonalny do wartości sprężu, dlatego konieczne jest sprawdzenie dla analizowanych czynników, czy wartości sprężu znacząco od siebie nie odbiegają. Na potrzeby obliczeń projektowych powinno się przyjąć, że różnica nie przekracza kilku procent.\n",
    "\n",
    "$$\\Pi = \\frac{p_0}{p_k}$$"
   ]
  },
  {
   "cell_type": "code",
   "execution_count": 8,
   "metadata": {
    "collapsed": false
   },
   "outputs": [
    {
     "name": "stdout",
     "output_type": "stream",
     "text": [
      "Stopień sprężania R22: 3.080\n",
      "Stopień sprężania R1234yf: 3.225\n",
      "Różnica: 4.5%\n"
     ]
    }
   ],
   "source": [
    "print (\"Stopień sprężania %s: %.3f\" % (refrigerant_ref,p_k_ref/p_0_ref))\n",
    "print (\"Stopień sprężania %s: %.3f\" % (refrigerant,p_k/p_0))\n",
    "print (\"Różnica: %.1f%%\" % ((1-(p_k_ref/p_0_ref)/(p_k/p_0))*100))"
   ]
  },
  {
   "cell_type": "markdown",
   "metadata": {},
   "source": [
    "### Obliczenie sprawności izentropowej $n$ oraz stopnia dostarczania $\\lambda$\n",
    "Teraz należy ustalić jaki jest orientacyjny stopień dostarczania wybranej przez nas sprężarki. W tym celu należy odnieść się do parametrów pracy obiegu przy zastosowaniu czynnika referencyjnego. W tym celu przeliczamy cały obieg i sprawdzamy jaka jest wydajność ziębnicza sprężarki w założonych warunkach pracy obiegu.\n",
    "\n",
    "Na stopień dostarczania składają się wskaźniki charakterystyczne dla pracy sprężarki np.:\n",
    "* wskaźnik przestrzeni szkodliwej\n",
    "* wskaźnik dławienia (na tłoczeniu)\n",
    "* wskaźnik podgrzania (czynnika od konstrukcji sprężarki - dodatkowe przegrzanie, zmniejsza ilość par)\n",
    "* wskaźnik szczelności (praktyczne wartości: 0.96-0.98, nowoczesne konstrukcje: 0.990-0.995)\n",
    "\n",
    "Na potrzeby przedstawionego tu doboru nie przeprowadzamy obliczeń poszczególnych wskaźników. Obliczamy jedynie stopień dostraczania porównując ze sobą parametry katalogowe podane przez producenta oraz teoretyczne wyliczone dla referencyjnego czynnika chłodniczego."
   ]
  },
  {
   "cell_type": "code",
   "execution_count": 9,
   "metadata": {
    "collapsed": false
   },
   "outputs": [
    {
     "name": "stdout",
     "output_type": "stream",
     "text": [
      "* Współczynnik sprawności izentropowej n: 0.601 [-]\n",
      "* Stopień dostarczania λ: 0.824 [-]\n"
     ]
    }
   ],
   "source": [
    "n_sp = L_ob_ref / L_sp_rz_ref\n",
    "print (\"* Współczynnik sprawności izentropowej n: %.3f [-]\" % (n_sp)) \n",
    "\n",
    "λ_sp = V_sp_rz_ref / V_sp_t_ref\n",
    "print (\"* Stopień dostarczania λ: %.3f [-]\" % (λ_sp))"
   ]
  },
  {
   "cell_type": "markdown",
   "metadata": {},
   "source": [
    "### Weryfikacja poprawności doboru sprężarki dla czynnika docelowego\n",
    "\n",
    "Przyjmując założenie, że stopień dostarczania pozostaje taki sam bez względu na zastosowany czynnik (przy założeniu, że spręże dla obu czynników nie odbiegają od siebie zbytnio), można teraz obliczyć:\n",
    "* strumień masy czynnika docelowego \n",
    "* wydajność ziębienia tej sprężarki przy zastosowaniu czynnika docelowego.\n",
    "\n",
    "Jeżeli obliczona wydajność ziębienia **jest większa lub równa projektowanej**, oznacza to że sprężarka została dobrana prawidłowo."
   ]
  },
  {
   "cell_type": "code",
   "execution_count": 10,
   "metadata": {
    "collapsed": false
   },
   "outputs": [
    {
     "name": "stdout",
     "output_type": "stream",
     "text": [
      "* Strumień masy czynnika docelowego przetłaczany przez sprężarkę: 0.064 [kg/s]\n",
      "* Wydajność ziębienia przy docelowym czynniku: 7.554 [kW]\n",
      "* Moc sprężarki (teoretyczna): 1.417 [kW]\n",
      "* Moc sprężarki (po uwzględnieniu sprawności izentropowej): 2360.087 [W]\n",
      "* Moc sprężarki podana przez producenta: 3794.000 [W]\n",
      "\n",
      "DOBRZE! Sprężarka wygląda na dobraną prawidłowo!\n"
     ]
    }
   ],
   "source": [
    "# objętość właściwa par czynnika docelowego\n",
    "v1 = 1 / CP.PropsSI('D','H',h1,'P',p_0,refrigerant)\n",
    "\n",
    "# strumień masy czynnika docelowego przy założeniu, że stopień dostarczania pozostaje taki sam\n",
    "# jak dla czynnika referencyjnego\n",
    "m_0 = λ_sp * V_sp / (3600 * v1)\n",
    "print (\"* Strumień masy czynnika docelowego przetłaczany przez sprężarkę: %.3f [kg/s]\" % (m_0))\n",
    "\n",
    "Q_0_sp = m_0 * q_0\n",
    "print (\"* Wydajność ziębienia przy docelowym czynniku: %.3f [kW]\" % (Q_0_sp/1000))\n",
    "\n",
    "L_sp = m_0 * l_ob\n",
    "print (\"* Moc sprężarki (teoretyczna): %.3f [kW]\" % (L_sp/1000))\n",
    "print (\"* Moc sprężarki (po uwzględnieniu sprawności izentropowej): %.3f [W]\" % (L_sp/n_sp))\n",
    "print (\"* Moc sprężarki podana przez producenta: %.3f [W]\" % (L_sp_rz_ref))\n",
    "\n",
    "# Sprawdzenie warunku czy moc podana przez producenta jest większa niż moc \n",
    "# wyliczona dla nowego czynnika po uwzględnieniu sprawności izentropowej.\n",
    "# Jak ten warunek nie jest spełniony to urządzenie ma za słaby silnik, aby\n",
    "# prawidłowo działać z nowym czynnikiem.\n",
    "\n",
    "if (L_sp/n_sp) < L_sp_rz_ref:\n",
    "    print (\"\\nDOBRZE! Sprężarka wygląda na dobraną prawidłowo!\")\n",
    "else:\n",
    "    print (\"\\nŻLE! Sprężarka dobrana nieprawidłowo!\")"
   ]
  },
  {
   "cell_type": "markdown",
   "metadata": {},
   "source": [
    "### Wizualizacja obiegów na wykresie $\\mathrm{log}\\,p-h$\n",
    "\n",
    "W pierwszej kolejności należy obliczyć wartość entalpii na końcu procesu sprężania celem uwzględnienia sprawności izentropowej $n$.\n",
    "\n",
    "$$h_{2^\\prime} = h_1 + \\frac{h_2 - h_1}{n}$$"
   ]
  },
  {
   "cell_type": "code",
   "execution_count": 11,
   "metadata": {
    "collapsed": true
   },
   "outputs": [],
   "source": [
    "# korekta położenia punktu 2 na wykresie na podstawie sprawności izentropowej sprężarki\n",
    "h2b = h1 + (h2 - h1) / n_sp\n",
    "h2b_ref = h1_ref + (h2_ref - h1_ref) / n_sp"
   ]
  },
  {
   "cell_type": "markdown",
   "metadata": {},
   "source": [
    "Wyznaczenie linii nasycenia cieczy i pary obu czynników."
   ]
  },
  {
   "cell_type": "code",
   "execution_count": 12,
   "metadata": {
    "collapsed": false
   },
   "outputs": [
    {
     "name": "stdout",
     "output_type": "stream",
     "text": [
      "* Ciśnienie krytyczne R1234yf: 3382200 [Pa]\n",
      "* Ciśnienie krytyczne R22: 4990000 [Pa]\n"
     ]
    }
   ],
   "source": [
    "steps = 60\n",
    "pres = ones(steps)\n",
    "satl = zeros(steps)\n",
    "satv = zeros(steps)\n",
    "pres_ref = ones(steps)\n",
    "satl_ref = zeros(steps)\n",
    "satv_ref = zeros(steps)\n",
    "\n",
    "p_min = p_0 - 50000\n",
    "p_crit = CP.PropsSI(refrigerant,'pcrit')\n",
    "p_step = (p_crit - p_min)/(steps-1)\n",
    "\n",
    "for i in range(0,steps):\n",
    "    pres[i] = p_min + i * p_step\n",
    "    satl[i] = CP.PropsSI('H','Q',0,'P',pres[i],refrigerant)\n",
    "    satv[i] = CP.PropsSI('H','Q',1,'P',pres[i],refrigerant)\n",
    "\n",
    "print (\"* Ciśnienie krytyczne %s: %.0f [Pa]\" % (refrigerant, p_crit))\n",
    "\n",
    "p_min_ref = p_0 - 50000\n",
    "p_crit_ref = CP.PropsSI(refrigerant_ref,'pcrit')\n",
    "p_step_ref = (p_crit_ref - p_min_ref)/(steps-1)\n",
    "\n",
    "for i in range(0,steps):\n",
    "    pres_ref[i] = p_min_ref + i * p_step_ref\n",
    "    satl_ref[i] = CP.PropsSI('H','Q',0,'P',pres_ref[i],refrigerant_ref)\n",
    "    satv_ref[i] = CP.PropsSI('H','Q',1,'P',pres_ref[i],refrigerant_ref)\n",
    "\n",
    "print (\"* Ciśnienie krytyczne %s: %.0f [Pa]\" % (refrigerant_ref, p_crit_ref))"
   ]
  },
  {
   "cell_type": "code",
   "execution_count": 13,
   "metadata": {
    "collapsed": false
   },
   "outputs": [
    {
     "data": {
      "text/plain": [
       "<matplotlib.text.Text at 0x10d24d9e8>"
      ]
     },
     "execution_count": 13,
     "metadata": {},
     "output_type": "execute_result"
    },
    {
     "data": {
      "image/png": "[encoded data removed]",
      "text/plain": [
       "<matplotlib.figure.Figure at 0x10d22c898>"
      ]
     },
     "metadata": {
      "image/png": {
       "height": 535,
       "width": 799
      }
     },
     "output_type": "display_data"
    }
   ],
   "source": [
    "# plot results\n",
    "plt.figure()\n",
    "\n",
    "# grid and axes\n",
    "plt.axes([0.025, 0.025, 0.95, 0.95])\n",
    "plt.grid(which='major', axis='x', linewidth=0.25, linestyle='-', color='0.65')\n",
    "plt.grid(which='minor', axis='x', linewidth=0.25, linestyle='-', color='0.65')\n",
    "plt.grid(which='major', axis='y', linewidth=0.25, linestyle='-', color='0.65')\n",
    "plt.grid(which='minor', axis='y', linewidth=0.25, linestyle='-', color='0.65')\n",
    "\n",
    "# data\n",
    "plt.plot([h4,h1], [p_0,p_0], 'b-', linewidth=0.75)\n",
    "plt.plot([h1,h2b], [p_0,p_k], 'b-', linewidth=0.75)\n",
    "plt.plot([h2b,h3], [p_k,p_k], 'b-', linewidth=0.75)\n",
    "plt.plot([h3,h4], [p_k,p_0], 'b-', linewidth=0.75)\n",
    "\n",
    "plt.semilogy(satl, pres, 'b--', linewidth=0.75)\n",
    "plt.semilogy(satv, pres, 'b--', linewidth=0.75)\n",
    "\n",
    "# data (ref)\n",
    "plt.plot([h4_ref,h1_ref], [p_0_ref,p_0_ref], 'r-', linewidth=0.75)\n",
    "plt.plot([h1_ref,h2b_ref], [p_0_ref,p_k_ref], 'r-', linewidth=0.75)\n",
    "plt.plot([h2b_ref,h3_ref], [p_k_ref,p_k_ref], 'r-', linewidth=0.75)\n",
    "plt.plot([h3_ref,h4_ref], [p_k_ref,p_0_ref], 'r-', linewidth=0.75)\n",
    "\n",
    "plt.semilogy(satl_ref, pres_ref, 'r--', linewidth=0.75)\n",
    "plt.semilogy(satv_ref, pres_ref, 'r--', linewidth=0.75)\n",
    "\n",
    "\n",
    "# opis punktów\n",
    "plt.text(h1, p_0, \"1\", fontsize=12, horizontalalignment='left', verticalalignment='top')\n",
    "plt.text(h2b, p_k, \"2\", fontsize=12, horizontalalignment='left', verticalalignment='bottom')\n",
    "plt.text(h3, p_k, \"3\", fontsize=12, horizontalalignment='right', verticalalignment='bottom')\n",
    "plt.text(h4, p_0, \"4\", fontsize=12, horizontalalignment='right', verticalalignment='top')\n",
    "\n",
    "plt.annotate(refrigerant, \n",
    "             xy=(satl[round(0.6 * steps)],pres[round(0.6 * steps)]), xytext=(satl[round(0.9 * steps)]-160000,pres[round(0.9 * steps)]), bbox=dict(boxstyle=\"square\", fc=\"w\"),\n",
    "             arrowprops=dict(facecolor='red', arrowstyle=\"->\"), horizontalalignment='center', \n",
    "             verticalalignment='top', fontsize=10)\n",
    "plt.annotate(refrigerant_ref, \n",
    "             xy=(satl_ref[round(0.6 * steps)],pres_ref[round(0.6 * steps)]), xytext=(satl_ref[round(0.9 * steps)]-80000,pres_ref[round(0.9 * steps)]), bbox=dict(boxstyle=\"square\", fc=\"w\"),\n",
    "             arrowprops=dict(facecolor='red', arrowstyle=\"->\"), horizontalalignment='center', \n",
    "             verticalalignment='top', fontsize=10)\n",
    "\n",
    "plt.xlabel('Entalpia [J/kg]',fontsize=9)\n",
    "plt.ylabel('Cisnienie [Pa]',fontsize=9)"
   ]
  },
  {
   "cell_type": "code",
   "execution_count": null,
   "metadata": {
    "collapsed": true
   },
   "outputs": [],
   "source": []
  }
 ],
 "metadata": {
  "anaconda-cloud": {},
  "kernelspec": {
   "display_name": "Python [Root]",
   "language": "python",
   "name": "Python [Root]"
  },
  "language_info": {
   "codemirror_mode": {
    "name": "ipython",
    "version": 3
   },
   "file_extension": ".py",
   "mimetype": "text/x-python",
   "name": "python",
   "nbconvert_exporter": "python",
   "pygments_lexer": "ipython3",
   "version": "3.5.2"
  }
 },
 "nbformat": 4,
 "nbformat_minor": 0
}
