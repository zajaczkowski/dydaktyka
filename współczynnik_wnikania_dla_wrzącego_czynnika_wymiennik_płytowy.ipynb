{
 "cells": [
  {
   "cell_type": "code",
   "execution_count": 1,
   "metadata": {
    "collapsed": false
   },
   "outputs": [
    {
     "name": "stdout",
     "output_type": "stream",
     "text": [
      "Populating the interactive namespace from numpy and matplotlib\n"
     ]
    }
   ],
   "source": [
    "# get rid of error messages\n",
    "import warnings;warnings.simplefilter('ignore')\n",
    "\n",
    "# set up modules\n",
    "%pylab inline\n",
    "rcParams['savefig.dpi'] = 120\n",
    "%config InlineBackend.figure_format = 'retina'\n",
    "\n",
    "import math\n",
    "from scipy.integrate import odeint\n",
    "\n",
    "import CoolProp\n",
    "import CoolProp.CoolProp as CP"
   ]
  },
  {
   "cell_type": "markdown",
   "metadata": {},
   "source": [
    "## Dane"
   ]
  },
  {
   "cell_type": "code",
   "execution_count": 2,
   "metadata": {
    "collapsed": true
   },
   "outputs": [],
   "source": [
    "# parametry czynnika\n",
    "refrigerant = 'R134a'\n",
    "m_0 = 0.150 # [kg/s]\n",
    "T_0 = 0 + 273.15 # [K]\n",
    "\n",
    "\n",
    "# parametry glikolu\n",
    "T_g1 = 12 + 273.15 # [K] - temperatura cieczy chłodzonej na wlocie do parownika\n",
    "T_g2 = 5 + 273.15 # [K] - temperatura cieczy chłodzonej na wylocie z parownika\n",
    "\n",
    "# Średnia logarytmiczna różnica temperatur wymiennika\n",
    "LMTD = (T_g1 - T_0) - (T_g2 - T_0) / math.log((T_g1 - T_0)/(T_g2 - T_0))\n",
    "\n",
    "α_g = 800 # [W/m2K]"
   ]
  },
  {
   "cell_type": "markdown",
   "metadata": {},
   "source": [
    "### Wstępnie założone parametry konstrukcyjne wymiennika płytowego"
   ]
  },
  {
   "cell_type": "code",
   "execution_count": 3,
   "metadata": {
    "collapsed": false
   },
   "outputs": [],
   "source": [
    "G = 120e-3 # [m] - szerokość płyt\n",
    "H = 360e-3 # [m] - wysokość płyt\n",
    "\n",
    "s_pl = 1.8e-3 # [m] - odległość pomiędzy płytami\n",
    "δ_pl = 0.4e-3 # [m] - grubość płyt\n",
    "λ_pl = 20 # [W/mK] - przewodność cieplna płyty ze stali nierdzewnej\n",
    "\n",
    "β = 70 # kąt wyżłobień na płycie"
   ]
  },
  {
   "cell_type": "markdown",
   "metadata": {},
   "source": [
    "### Średnica hydrauliczna kanałów\n",
    "W przypadku wymienników płytowych średnicę hydrauliczną kanału równa jest podwojonej założonej odległości pomiędzy płytami:\n",
    "$$d_h = 2s_{pl}$$"
   ]
  },
  {
   "cell_type": "code",
   "execution_count": 4,
   "metadata": {
    "collapsed": false
   },
   "outputs": [
    {
     "name": "stdout",
     "output_type": "stream",
     "text": [
      "* Średnica hydrauliczna kanałów: 3.6 [mm]\n"
     ]
    }
   ],
   "source": [
    "d_h = 2 * s_pl\n",
    "print (\"* Średnica hydrauliczna kanałów: %.1f [mm]\" % (d_h*1e3))"
   ]
  },
  {
   "cell_type": "markdown",
   "metadata": {},
   "source": [
    "## Obliczenia parametrów płynów"
   ]
  },
  {
   "cell_type": "markdown",
   "metadata": {},
   "source": [
    "### Czynnik chłodniczy i jego parametry w założonych temperaturach pracy wymiennika\n",
    "Wszsytkie parametry czynnika chłodniczego w parowniku oblicza się dla średniego stopnia suchości 0.5."
   ]
  },
  {
   "cell_type": "code",
   "execution_count": 5,
   "metadata": {
    "collapsed": true
   },
   "outputs": [],
   "source": [
    "refrigerant = 'R134a'\n",
    "m_0 = 0.190 # [kg/s]"
   ]
  },
  {
   "cell_type": "code",
   "execution_count": 6,
   "metadata": {
    "collapsed": false
   },
   "outputs": [
    {
     "name": "stdout",
     "output_type": "stream",
     "text": [
      "* Ciśnienie nasycenia R134a: 292803.18 [J/kgK]\n",
      "* Ciepło właściwe R134a: 1341.04 [J/kgK]\n",
      "* Ciepło przemiany fazowej R134a: 198603.47 [J/kg]\n",
      "* Gęstość R134a (ciecz): 1294.78 [kg/m3]\n",
      "* Gęstość R134a (gaz): 14.43 [kg/m3]\n",
      "* Lepkość dynamiczna R134a (ciecz): 0.000267 [Pas]\n",
      "* Lepkość dynamiczna R134a (gaz): 0.000011 [Pas]\n",
      "* Współczynnik przewodzenia ciepła R134a: 0.092 [W/mK]\n",
      "* Napięcie powierzchniowe ciepła R134a: 0.011 [N/m]\n",
      "* Liczba Prandtla R134a: 3.884 [-]\n"
     ]
    }
   ],
   "source": [
    "# ciśnienie nasycenia czynnika chłodniczego\n",
    "p_n0 = CP.PropsSI('P','Q',0,'T',T_0,refrigerant)\n",
    "print (\"* Ciśnienie nasycenia %s: %.2f [J/kgK]\" % (refrigerant,p_n0))\n",
    "\n",
    "# ciepło właściwe czynnika chłodniczego\n",
    "c_p0 = CP.PropsSI('C','Q',0,'T',T_0,refrigerant)\n",
    "print (\"* Ciepło właściwe %s: %.2f [J/kgK]\" % (refrigerant,c_p0))\n",
    "\n",
    "# ciepło przemiany fazowej\n",
    "r_0 = CP.PropsSI('H','Q',1.0,'T',T_0,refrigerant) - CP.PropsSI('H','Q',0,'T',T_0,refrigerant)\n",
    "print (\"* Ciepło przemiany fazowej %s: %.2f [J/kg]\" % (refrigerant,r_0))\n",
    "\n",
    "# gęstość czynnika chłodniczego (ciecz i gaz)\n",
    "ρ_0l = CP.PropsSI('D','Q',0,'T',T_0,refrigerant)\n",
    "print (\"* Gęstość %s (ciecz): %.2f [kg/m3]\" % (refrigerant,ρ_0l))\n",
    "ρ_0v = CP.PropsSI('D','Q',1,'T',T_0,refrigerant)\n",
    "print (\"* Gęstość %s (gaz): %.2f [kg/m3]\" % (refrigerant,ρ_0v))\n",
    "\n",
    "# lepkość dynamiczna czynnika chłodniczego (ciecz i gaz)\n",
    "μ_0l = CP.PropsSI('V','Q',0,'T',T_0,refrigerant)\n",
    "print (\"* Lepkość dynamiczna %s (ciecz): %.6f [Pas]\" % (refrigerant,μ_0l))\n",
    "μ_0v = CP.PropsSI('V','Q',1,'T',T_0,refrigerant)\n",
    "print (\"* Lepkość dynamiczna %s (gaz): %.6f [Pas]\" % (refrigerant,μ_0v))\n",
    "\n",
    "# współczynnik przewodzenia ciepła\n",
    "λ_0 = CP.PropsSI('L','Q',0,'T',T_0,refrigerant)\n",
    "print (\"* Współczynnik przewodzenia ciepła %s: %.3f [W/mK]\" % (refrigerant,λ_0))\n",
    "\n",
    "# napięcie powierzchniowe\n",
    "σ_0 = CP.PropsSI('I','Q',0,'T',T_0,refrigerant)\n",
    "print (\"* Napięcie powierzchniowe ciepła %s: %.3f [N/m]\" % (refrigerant,σ_0))\n",
    "\n",
    "# Liczba Prandtla\n",
    "Pr_0 = c_p0 * μ_0l / λ_0\n",
    "print (\"* Liczba Prandtla %s: %.3f [-]\" % (refrigerant,Pr_0))"
   ]
  },
  {
   "cell_type": "markdown",
   "metadata": {},
   "source": [
    "### Prędkość przepływu cieczy w kanałach\n",
    "Prędkość przepływu cieczy w kanałach zależy od tego ile strumieni przepływowywch ma wymiennik. Strumień masy czynnika należy wtedy podzielić stosownie do ilości kanałów.\n",
    "\n",
    "Prędkość przepływu cieczy w kanałach płyt oblicza się następująco:\n",
    "$$w = \\frac{\\dot{m_g}}{G \\cdot s_{pl} \\cdot \\rho_g \\cdot n_{zg}}$$\n",
    "gdzie:\n",
    "* $G$ - założona szerokość płyt\n",
    "* $s_{pl}$ - odległość pomiędzy płytami\n",
    "* $\\rho_g$ - gęstość cieczy chłodzonej (dla średniej temperatury medium w parowniku)\n",
    "* $n_{zg}$ - liczba kanałów w których równolegle przepływa ciecz chłodzona"
   ]
  },
  {
   "cell_type": "code",
   "execution_count": 7,
   "metadata": {
    "collapsed": false
   },
   "outputs": [
    {
     "name": "stdout",
     "output_type": "stream",
     "text": [
      "* Strumień masy czynnika chłodniczego w kanale: 0.19 [kg/s]\n",
      "* Gęstość strumienia masy czynnika chłodniczego w kanale: 879.63 [kg/m2s]\n",
      "* Prędkość przepływu czynnika chłodniczego w kanale: 60.97 [m/s]\n"
     ]
    }
   ],
   "source": [
    "# Ilość kanałów w których jednocześnie przepływa czynnik chłodniczy\n",
    "n_z0 = 1\n",
    "\n",
    "# Strumień masy czynnika w kanale\n",
    "m_0k = m_0 / n_z0\n",
    "print (\"* Strumień masy czynnika chłodniczego w kanale: %.2f [kg/s]\" % (m_0k))\n",
    "\n",
    "G_0k = m_0k / (s_pl * G)\n",
    "print (\"* Gęstość strumienia masy czynnika chłodniczego w kanale: %.2f [kg/m2s]\" % (G_0k))\n",
    "\n",
    "# Prędkość przepływu czynnika chłodniczego w kanale\n",
    "w_0k = m_0k  / (G * s_pl * ρ_0v * n_z0)\n",
    "print (\"* Prędkość przepływu czynnika chłodniczego w kanale: %.2f [m/s]\" % (w_0k))"
   ]
  },
  {
   "cell_type": "markdown",
   "metadata": {},
   "source": [
    "### Współczynnik przejmowania ciepła od strony czynnika chłodniczego $\\alpha_0$"
   ]
  },
  {
   "cell_type": "markdown",
   "metadata": {},
   "source": [
    "#### Liczba Reynoldsa czystej cieczy i czystej pary\n",
    "$$Re_{lo} = \\frac{G \\cdot d_h}{\\mu_l}$$\n",
    "$$Re_{vo} = \\frac{G \\cdot d_h}{\\mu_v}$$\n",
    "\n",
    "\n",
    "#### Liczba Reynoldsa frakcji cieczy i frakcji pary\n",
    "$$Re_l = \\frac{G \\cdot\\left( 1-x\\right) \\cdot d_h}{\\mu_l}$$\n",
    "$$Re_v = \\frac{G \\cdot x \\cdot d_h}{\\mu_l}$$\n",
    "\n",
    "\n",
    "#### Liczba wrzenia $Bo$\n",
    "$$Bo = \\frac{q}{r G}$$\n",
    "gdzie:\n",
    "* $G$ - [kg/m2s] gęstość strumienia masy czynnika chłodniczego \n",
    "* $r$ - ciepło przemiany fazowej\n",
    "* $q$ - gęstość strumienia ciepła\n",
    "\n",
    "#### Liczba Webera\n",
    "Liczba Webera jest to stosunek sił inercjalnych do sił napięcia powierzchniowego.\n",
    "$$We = \\frac{G^2 d_h}{\\rho_m \\sigma}$$\n",
    "gdzie:\n",
    "* $\\rho$ - [kg/m3] średnia gęstość płynu (pomiędzy cieczą i gazem)\n",
    "* $G$ - [kg/m2s] gęstość strumienia masy czynnika chłodniczego \n",
    "* $d_h$ - [m] wymiar charakterystyczny (średnica hydrauliczna?)\n",
    "* $\\sigma$ - [N/m] napięcie powierzchniowe płynu\n",
    "\n",
    "#### Liczba Bonda\n",
    "Wyraża stosunek sił grawitacji do napięcia powierzchniowego.\n",
    "$$Bd = \\frac{\\Delta \\rho g d_h^2}{\\sigma}$$\n",
    "gdzie:\n",
    "* $\\Delta \\rho$ - różnica gęstości ośrodków (a może średnia?)\n",
    "* $g$ - przyśpieszenie ziemski (we Wrocławiu podobno $g = 9.8115$ - brak źródła)\n",
    "* $L$ - wymiar charakterystyczny (średnica hydrauliczna)\n",
    "* $\\sigma$ - [N/m] napięcie powierzchniowe płynu\n",
    "\n",
    "#### Iteracyjne obliczenie wartości współczynnika przejmowania za pomocą korelacji Amalfiego i innych\n",
    "Źródło: Amalfi et al., 2016, Flow boiling and frictional pressure gradients in plate heat exchangers. Part 2: comparison of literature methods to database and new prediction methods. Int. J. Refrigeration 61, 185-203\n",
    "\n",
    "Można stosować dla: **R134a, R717, R245fa, R236fa, R600a, R290, R1270, R1234yf, R410A, R507A**.\n",
    "\n",
    "Dla $Bd<4$:\n",
    "$$Nu=982 \\cdot (\\beta/70)^{1.101} \\cdot We_m^{0.315} \\cdot Bo^{0.320} \\cdot \\rho^{*-0.224} $$\n",
    "Dla $Bd>4$\n",
    "$$Nu = 18.495 \\cdot (\\beta/70)^{0.248} \\cdot Re_v^{0.135} \\cdot  Re_{lo}^{0.351} \\cdot Bd^{0.235} \\cdot Do^{0.198} \\cdot \\rho^{*-0.223} $$\n",
    "\n",
    "gdzie $q^* = \\rho_{ciecz} / \\rho_{gaz}$"
   ]
  },
  {
   "cell_type": "code",
   "execution_count": 8,
   "metadata": {
    "collapsed": false
   },
   "outputs": [
    {
     "name": "stdout",
     "output_type": "stream",
     "text": [
      "q = 100.000 [W/m2]\n",
      "* Liczba wrzenia: 0.000001 [-]\n",
      "* Liczba Webera: 372.37 [-]\n",
      "* Liczba Bonda: 14.25 [-]\n",
      "* Liczba Nusselta: 85.07 [-]\n",
      "* Współczynnik przejmowania ciepła: 2174.355 [W/m2K]\n",
      "q = 3635.326 [W/m2]\n",
      "* Liczba wrzenia: 0.000021 [-]\n",
      "* Liczba Webera: 372.37 [-]\n",
      "* Liczba Bonda: 14.25 [-]\n",
      "* Liczba Nusselta: 173.29 [-]\n",
      "* Współczynnik przejmowania ciepła: 4429.125 [W/m2K]\n",
      "q = 4204.349 [W/m2]\n",
      "* Liczba wrzenia: 0.000024 [-]\n",
      "* Liczba Webera: 372.37 [-]\n",
      "* Liczba Bonda: 14.25 [-]\n",
      "* Liczba Nusselta: 178.35 [-]\n",
      "* Współczynnik przejmowania ciepła: 4558.508 [W/m2K]\n",
      "q = 4222.439 [W/m2]\n",
      "* Liczba wrzenia: 0.000024 [-]\n",
      "* Liczba Webera: 372.37 [-]\n",
      "* Liczba Bonda: 14.25 [-]\n",
      "* Liczba Nusselta: 178.50 [-]\n",
      "* Współczynnik przejmowania ciepła: 4562.385 [W/m2K]\n",
      "q = 4222.967 [W/m2]\n",
      "* Liczba wrzenia: 0.000024 [-]\n",
      "* Liczba Webera: 372.37 [-]\n",
      "* Liczba Bonda: 14.25 [-]\n",
      "* Liczba Nusselta: 178.50 [-]\n",
      "* Współczynnik przejmowania ciepła: 4562.498 [W/m2K]\n",
      "q = 4222.983 [W/m2]\n",
      "* Liczba wrzenia: 0.000024 [-]\n",
      "* Liczba Webera: 372.37 [-]\n",
      "* Liczba Bonda: 14.25 [-]\n",
      "* Liczba Nusselta: 178.50 [-]\n",
      "* Współczynnik przejmowania ciepła: 4562.501 [W/m2K]\n",
      "q = 4222.983 [W/m2]\n",
      "* Liczba wrzenia: 0.000024 [-]\n",
      "* Liczba Webera: 372.37 [-]\n",
      "* Liczba Bonda: 14.25 [-]\n",
      "* Liczba Nusselta: 178.50 [-]\n",
      "* Współczynnik przejmowania ciepła: 4562.501 [W/m2K]\n"
     ]
    }
   ],
   "source": [
    "q = 100 # wartość początkowa w iteracji\n",
    "q_old = 0\n",
    "\n",
    "while abs(q - q_old) > 1e-4:\n",
    "    q_old = q\n",
    "    x = 0.5\n",
    "    Re_0lo = G_0k * (1 - x) * d_h / μ_0l\n",
    "    Re_0v = G_0k * d_h / μ_0v\n",
    "        \n",
    "    print (\"q = %.3f [W/m2]\" % (q))\n",
    "    Bo_0 = q / (r_0 * G_0k)\n",
    "    print (\"* Liczba wrzenia: %.6f [-]\" % Bo_0)\n",
    "    \n",
    "    We_0 = G_0k**2 * d_h / (0.5 * (ρ_0v + ρ_0l) * σ_0 ) #ρ_0v * w_0k**2 * d_h / σ_0\n",
    "    print (\"* Liczba Webera: %.2f [-]\" % We_0)\n",
    "        \n",
    "    Bd_0 = (ρ_0l - ρ_0v) * 9.8115 * d_h**2 / σ_0\n",
    "    print (\"* Liczba Bonda: %.2f [-]\" % Bd_0)\n",
    "\n",
    "    # dla Bd < 4\n",
    "    if Bd_0 < 4: Nu_0k = 982 * (β/70)**1.101 * We_0**0.315 * Bo_0**0.320 * (ρ_0l/ρ_0v)**-0.224\n",
    "    if Bd_0 >= 4: Nu_0k = 18.495 * (β/70)**0.248 * Re_0v**0.135 * Re_0lo**0.351 * Bd_0**0.235 * Bo_0**0.198 * (ρ_0l/ρ_0v)**-0.223\n",
    "    print (\"* Liczba Nusselta: %.2f [-]\" % Nu_0k)\n",
    "\n",
    "    # Współczynnik przejmowania ciepła\n",
    "    α_0 = Nu_0k * λ_0 / d_h\n",
    "    print (\"* Współczynnik przejmowania ciepła: %.3f [W/m2K]\" % α_0)\n",
    "    \n",
    "    k_A = 1 / ( (1/α_g) + (δ_pl/λ_pl) + (1/α_0) )\n",
    "    q = k_A * LMTD"
   ]
  },
  {
   "cell_type": "code",
   "execution_count": null,
   "metadata": {
    "collapsed": true
   },
   "outputs": [],
   "source": []
  }
 ],
 "metadata": {
  "anaconda-cloud": {},
  "kernelspec": {
   "display_name": "Python [conda root]",
   "language": "python",
   "name": "conda-root-py"
  },
  "language_info": {
   "codemirror_mode": {
    "name": "ipython",
    "version": 3
   },
   "file_extension": ".py",
   "mimetype": "text/x-python",
   "name": "python",
   "nbconvert_exporter": "python",
   "pygments_lexer": "ipython3",
   "version": "3.5.2"
  }
 },
 "nbformat": 4,
 "nbformat_minor": 0
}
