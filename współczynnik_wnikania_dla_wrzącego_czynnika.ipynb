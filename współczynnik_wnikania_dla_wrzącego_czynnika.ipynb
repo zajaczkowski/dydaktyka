{
 "cells": [
  {
   "cell_type": "code",
   "execution_count": 1,
   "metadata": {
    "collapsed": false
   },
   "outputs": [
    {
     "name": "stdout",
     "output_type": "stream",
     "text": [
      "Populating the interactive namespace from numpy and matplotlib\n"
     ]
    }
   ],
   "source": [
    "# get rid of error messages\n",
    "import warnings;warnings.simplefilter('ignore')\n",
    "\n",
    "# set up modules\n",
    "%pylab inline\n",
    "rcParams['savefig.dpi'] = 120\n",
    "%config InlineBackend.figure_format = 'retina'\n",
    "\n",
    "import math\n",
    "from scipy.integrate import odeint\n",
    "\n",
    "import CoolProp\n",
    "import CoolProp.CoolProp as CP"
   ]
  },
  {
   "cell_type": "markdown",
   "metadata": {},
   "source": [
    "## Algorytm obliczeń współczynnika wnikania ciepła po stronie wrzącego czynnika\n",
    "Podczas wrzenia czynnika w rurkach poziomych."
   ]
  },
  {
   "cell_type": "markdown",
   "metadata": {},
   "source": [
    "### Założenia projektowe"
   ]
  },
  {
   "cell_type": "code",
   "execution_count": 2,
   "metadata": {
    "collapsed": true
   },
   "outputs": [],
   "source": [
    "Q_k = 15 * 1e3 # [kW] - wydajność grzewcza projektowanej pompy ciepła\n",
    "\n",
    "T_0 = 3 + 273.15 # [K] - temperatura wrzenia czynnika chłodniczego\n",
    "T_k = 40 + 273.15 # [K] - temperatura skraplania czynnika chłodniczego\n",
    "dT_sup = 10 # [°C] - przegrzanie\n",
    "\n",
    "n_iz = 0.5 # założony współczynnik sprawności izentropowej sprężarki"
   ]
  },
  {
   "cell_type": "code",
   "execution_count": 3,
   "metadata": {
    "collapsed": true
   },
   "outputs": [],
   "source": [
    "# czynnik chłodniczy\n",
    "refrigerant = \"R32\""
   ]
  },
  {
   "cell_type": "markdown",
   "metadata": {},
   "source": [
    "### Obliczanie punktów charakterystycznych obiegu pompy ciepła"
   ]
  },
  {
   "cell_type": "code",
   "execution_count": 4,
   "metadata": {
    "collapsed": false
   },
   "outputs": [
    {
     "name": "stdout",
     "output_type": "stream",
     "text": [
      "* Strumień masy czynnika chłodniczego: 0.044 [kg/s]\n",
      "* Wydajność chłodnicza parownika: 11.153 [kW]\n"
     ]
    }
   ],
   "source": [
    "p_0 = CP.PropsSI('P','Q',1,'T',T_0,refrigerant)\n",
    "p_k = CP.PropsSI('P','Q',1,'T',T_k,refrigerant)\n",
    "\n",
    "if dT_sup > 0: h1 = CP.PropsSI('H','P',p_0,'T',T_0+dT_sup,refrigerant)\n",
    "else: h1 = CP.PropsSI('H','Q',1,'T',T_0,refrigerant)\n",
    "s1 = CP.PropsSI('S','H',h1,'P',p_0,refrigerant)\n",
    "h2 = CP.PropsSI('H','S',s1,'P',p_k,refrigerant)\n",
    "h3 = CP.PropsSI('H','Q',0,'T',T_k,refrigerant)\n",
    "h4 = h3\n",
    "\n",
    "T_2 = CP.PropsSI('T','S',s1,'P',p_k,refrigerant)\n",
    "\n",
    "# Korekta położenia punktu 2 po uwzględnieniu sprawności izentropowej sprężarki\n",
    "h2b = h1 + (h2 - h1) / n_iz\n",
    "\n",
    "q_0 = h1 - h4\n",
    "q_k = h2b - h3\n",
    "\n",
    "# strumień masy czynnika chłodniczego\n",
    "m_0 = Q_k / q_k\n",
    "print (\"* Strumień masy czynnika chłodniczego: %.3f [kg/s]\" % m_0)\n",
    "\n",
    "Q_0 = m_0 * q_0\n",
    "print (\"* Wydajność chłodnicza parownika: %.3f [kW]\" % (Q_0/1e3))"
   ]
  },
  {
   "cell_type": "markdown",
   "metadata": {},
   "source": [
    "### Dane podstawowe"
   ]
  },
  {
   "cell_type": "code",
   "execution_count": 5,
   "metadata": {
    "collapsed": true
   },
   "outputs": [],
   "source": [
    "T_p1 = 12 + 273.15 # [K] - temperatura powietrza na wlocie do parownika\n",
    "T_p2 = 7 + 273.15 # [K] - temperatura powietrza na wylocie z parownika\n",
    "\n",
    "# Średnia logarytmiczna różnica temperatur wymiennika\n",
    "LMTD = (T_p1 - T_0) - (T_p2 - T_0) / math.log((T_p1 - T_0)/(T_p2 - T_0))\n",
    "\n",
    "# Współczynnik wnikania ciepła po stronie powietrza (powinien być wcześniej obliczony)\n",
    "α_p = 70 # [W/m2K]\n"
   ]
  },
  {
   "cell_type": "markdown",
   "metadata": {},
   "source": [
    "### Czynnik chłodniczy i jego parametry w założonych temperaturach pracy wymiennika"
   ]
  },
  {
   "cell_type": "code",
   "execution_count": 6,
   "metadata": {
    "collapsed": false
   },
   "outputs": [
    {
     "name": "stdout",
     "output_type": "stream",
     "text": [
      "* Ciśnienie nasycenia R32: 894129.32 [J/kgK]\n",
      "* Ciepło właściwe R32 (ciecz): 1761.58 [J/kgK]\n",
      "* Ciepło właściwe R32 (gaz): 1283.25 [J/kgK]\n",
      "* Ciepło przemiany fazowej R32: 310547.71 [J/kg]\n",
      "* Gęstość R32 (ciecz): 1044.82 [kg/m3]\n",
      "* Gęstość R32 (gaz): 24.31 [kg/m3]\n",
      "* Lepkość dynamiczna R32 (ciecz): 0.000147 [Pas]\n",
      "* Lepkość dynamiczna R32 (gaz): 0.000013 [Pas]\n",
      "* Współczynnik przewodzenia ciepła (ciecz) R32: 0.152 [W/mK]\n",
      "* Współczynnik przewodzenia ciepła (gaz) R32: 0.013 [W/mK]\n",
      "* Napięcie powierzchniowe ciepła R32: 0.010 [N/m]\n",
      "* Liczba Prandtla (ciecz) R32: 1.700 [-]\n",
      "* Liczba Prandtla (gaz) R32: 1.700 [-]\n"
     ]
    }
   ],
   "source": [
    "# ciśnienie nasycenia czynnika chłodniczego\n",
    "p_n0 = CP.PropsSI('P','Q',0,'T',T_0,refrigerant)\n",
    "print (\"* Ciśnienie nasycenia %s: %.2f [J/kgK]\" % (refrigerant,p_n0))\n",
    "\n",
    "# ciepło właściwe czynnika chłodniczego\n",
    "c_p0l = CP.PropsSI('C','Q',0,'T',T_0,refrigerant)\n",
    "print (\"* Ciepło właściwe %s (ciecz): %.2f [J/kgK]\" % (refrigerant,c_p0l))\n",
    "c_p0v = CP.PropsSI('C','Q',1,'T',T_0,refrigerant)\n",
    "print (\"* Ciepło właściwe %s (gaz): %.2f [J/kgK]\" % (refrigerant,c_p0v))\n",
    "\n",
    "\n",
    "# ciepło przemiany fazowej\n",
    "r_0 = CP.PropsSI('H','Q',1.0,'T',T_0,refrigerant) - CP.PropsSI('H','Q',0,'T',T_0,refrigerant)\n",
    "print (\"* Ciepło przemiany fazowej %s: %.2f [J/kg]\" % (refrigerant,r_0))\n",
    "\n",
    "# gęstość czynnika chłodniczego (ciecz i gaz)\n",
    "ρ_0l = CP.PropsSI('D','Q',0,'T',T_0,refrigerant)\n",
    "print (\"* Gęstość %s (ciecz): %.2f [kg/m3]\" % (refrigerant,ρ_0l))\n",
    "ρ_0v = CP.PropsSI('D','Q',1,'T',T_0,refrigerant)\n",
    "print (\"* Gęstość %s (gaz): %.2f [kg/m3]\" % (refrigerant,ρ_0v))\n",
    "\n",
    "# lepkość dynamiczna czynnika chłodniczego (ciecz i gaz)\n",
    "μ_0l = CP.PropsSI('V','Q',0,'T',T_0,refrigerant)\n",
    "print (\"* Lepkość dynamiczna %s (ciecz): %.6f [Pas]\" % (refrigerant,μ_0l))\n",
    "μ_0v = CP.PropsSI('V','Q',1,'T',T_0,refrigerant)\n",
    "print (\"* Lepkość dynamiczna %s (gaz): %.6f [Pas]\" % (refrigerant,μ_0v))\n",
    "\n",
    "# współczynnik przewodzenia ciepła\n",
    "λ_0l = CP.PropsSI('L','Q',0,'T',T_0,refrigerant)\n",
    "print (\"* Współczynnik przewodzenia ciepła (ciecz) %s: %.3f [W/mK]\" % (refrigerant,λ_0l))\n",
    "λ_0v = CP.PropsSI('L','Q',1,'T',T_0,refrigerant)\n",
    "print (\"* Współczynnik przewodzenia ciepła (gaz) %s: %.3f [W/mK]\" % (refrigerant,λ_0v))\n",
    "\n",
    "# napięcie powierzchniowe\n",
    "σ_0 = CP.PropsSI('I','Q',0,'T',T_0,refrigerant)\n",
    "print (\"* Napięcie powierzchniowe ciepła %s: %.3f [N/m]\" % (refrigerant,σ_0))\n",
    "\n",
    "# Liczba Prandtla\n",
    "Pr_0l = c_p0l * μ_0l / λ_0l\n",
    "print (\"* Liczba Prandtla (ciecz) %s: %.3f [-]\" % (refrigerant,Pr_0l))\n",
    "Pr_0v = c_p0v * μ_0v / λ_0v\n",
    "print (\"* Liczba Prandtla (gaz) %s: %.3f [-]\" % (refrigerant,Pr_0l))"
   ]
  },
  {
   "cell_type": "markdown",
   "metadata": {},
   "source": [
    "### Obliczanie współczynnika wnikania ciepła po stronie wrzącego czynnika\n",
    "Współczynnik wnikania ciepła podczas wrzenia w rurkach poziomych obliczony jest na podstawie metody Lavina i Younga.\n",
    "\n",
    "**Źródło:** http://onlinelibrary.wiley.com/doi/10.1002/aic.690110629/abstract"
   ]
  },
  {
   "cell_type": "markdown",
   "metadata": {},
   "source": [
    "Obliczenie współczynnika wnikania ciepła po stronie czynnika jest możliwe przy znajomości (wcześniejszym obliczeniu/założeniu) następujących parametrów:\n",
    "* średnicy rurek $d_w$\n",
    "* strumienia masy czynnika chłodniczego $m_0$"
   ]
  },
  {
   "cell_type": "code",
   "execution_count": 7,
   "metadata": {
    "collapsed": true
   },
   "outputs": [],
   "source": [
    "# Wymiary rurek, średnica zewnętrzna, wewnętrzna i grubość ścianki) oraz współczynnik przewodzenia ciepła materiału\n",
    "# rurki\n",
    "d_z = 0.01 # [m] - średnica zewnętrzna rurki\n",
    "δ_r = 0.001 # [m] - grubość ścianki rurki\n",
    "d_w = d_z - 2 * δ_r # [m] - średnica wewnętrzna rurki\n",
    "λ_r = 370 # [W/mK] - miedź"
   ]
  },
  {
   "cell_type": "code",
   "execution_count": 8,
   "metadata": {
    "collapsed": true
   },
   "outputs": [],
   "source": [
    "# ilość strumieni masy czynnika\n",
    "n_strumieni = 2\n",
    "\n",
    "# Frakcja ciekłego czynnika chłodniczego opuszczającego wymiennik\n",
    "x = 0.5"
   ]
  },
  {
   "cell_type": "code",
   "execution_count": 9,
   "metadata": {
    "collapsed": false
   },
   "outputs": [
    {
     "name": "stdout",
     "output_type": "stream",
     "text": [
      "* Gęstość strumienia masy czynnika: 440 [kg/m2s]\n",
      "* Liczba Reynoldsa obliczona dla frakcji przepływającej cieczy: 11977\n"
     ]
    }
   ],
   "source": [
    "# Gęstość strumienia masy czynnika w rurkach\n",
    "G_0 = (4 * m_0) / (n_strumieni * math.pi * d_w**2)\n",
    "print (\"* Gęstość strumienia masy czynnika: %.0f [kg/m2s]\" % G_0)\n",
    "\n",
    "# Liczba Reynoldsa obliczona dla frakcji przepływającej cieczy\n",
    "Re_0 = G_0 * (1 - x) * d_w / μ_0l\n",
    "print (\"* Liczba Reynoldsa obliczona dla frakcji przepływającej cieczy: %.0f\" % Re_0)"
   ]
  },
  {
   "cell_type": "markdown",
   "metadata": {},
   "source": [
    "Wartość liczby Nusselta okresla się wg korelacji Siedler-Tate'a. Należy pamiętać, ze korelacja ta znajduje potwierdzenie dla przepływów turbulentnych (Re > 10000).\n",
    "\n",
    "$$Nu = 0.023 \\cdot Re^{0.8} \\cdot Pr^{1/3} \\cdot \\left( \\frac{\\mu_l}{\\mu_{sc}} \\right)^{0.14}$$\n",
    "gdzie:\n",
    "* $\\mu_l$ - lepkość ciekłego czynnika w temperaturze wrzenia $T_0$\n",
    "* $\\mu_{sc}$ - lepkość ciekłego czynnika w temperaturze ścianki, którą można przyjąć jako równą $T_0 + LMTD$\n"
   ]
  },
  {
   "cell_type": "code",
   "execution_count": 10,
   "metadata": {
    "collapsed": false
   },
   "outputs": [
    {
     "name": "stdout",
     "output_type": "stream",
     "text": [
      "* Lepkość dynamiczna R32 w temperaturze ścianki 280.22 [K]: 0.000140 [Pas]\n",
      "* Liczba Nusselta: 50.62 \n",
      "* Współczynnik wnikania ciepła dla założonej frakcji cieczy: 962.76 [W/m2K]\n"
     ]
    }
   ],
   "source": [
    "# lepkość płynu w temperaturze ścianki, tutaj przyjętej jako średnia logarytmiczna różnica temperatur LMTD\n",
    "μ_sc =  CP.PropsSI('V','Q',0,'T',T_0 + LMTD,refrigerant)\n",
    "print (\"* Lepkość dynamiczna %s w temperaturze ścianki %.2f [K]: %.6f [Pas]\" % (refrigerant,T_0+LMTD,μ_sc))\n",
    "\n",
    "Nu_0 = 0.023 * Re_0**0.8 * Pr_0l**(1/3) * (μ_0l/μ_sc)**0.14\n",
    "print (\"* Liczba Nusselta: %.2f \" % Nu_0)\n",
    "\n",
    "# Współczynnik wnikania ciepła dla założonej frakcji cieczy\n",
    "α_0l = Nu_0 * λ_0l / d_w\n",
    "print (\"* Współczynnik wnikania ciepła dla założonej frakcji cieczy: %.2f [W/m2K]\" % α_0l)"
   ]
  },
  {
   "cell_type": "markdown",
   "metadata": {},
   "source": [
    "#### Obliczanie wartości współczynnika wnikania ciepła podczas przepływu mieszaniny cieczowo-parowej.\n",
    "Współczynnik wnikania ciepła dla mieszaniny cieczowo-parowej. Stała C w równaniu jest to współczynnik zależny od typu i orientacji rurki. Dla rur gładkich instalowanych poziomo C = 6.59, natomiast dla rur gładkich instalowanych pionowo C = 3.79."
   ]
  },
  {
   "cell_type": "code",
   "execution_count": 11,
   "metadata": {
    "collapsed": true
   },
   "outputs": [],
   "source": [
    "C = 6.59"
   ]
  },
  {
   "cell_type": "code",
   "execution_count": 12,
   "metadata": {
    "collapsed": false
   },
   "outputs": [
    {
     "name": "stdout",
     "output_type": "stream",
     "text": [
      "0.5\n",
      "q = 1000.000 [W/m2]\n",
      "* Współczynnik przejmowania ciepła: 6091.456 [W/m2K]\n",
      "q = 265.373 [W/m2]\n",
      "* Współczynnik przejmowania ciepła: 6127.348 [W/m2K]\n",
      "q = 281.430 [W/m2]\n",
      "* Współczynnik przejmowania ciepła: 6127.389 [W/m2K]\n",
      "q = 281.449 [W/m2]\n",
      "* Współczynnik przejmowania ciepła: 6127.389 [W/m2K]\n",
      "q = 281.449 [W/m2]\n",
      "* Współczynnik przejmowania ciepła: 6127.389 [W/m2K]\n",
      "q = 281.449 [W/m2]\n",
      "* Współczynnik przejmowania ciepła: 6127.389 [W/m2K]\n"
     ]
    }
   ],
   "source": [
    "q = 1000 # wartość początkowa w iteracji\n",
    "α_it = α_0l\n",
    "\n",
    "q_old = 0\n",
    "print (x)\n",
    "while abs(q - q_old) > 1e-9:\n",
    "    q_old = q\n",
    "    print (\"q = %.3f [W/m2]\" % (q))    \n",
    "    \n",
    "    q = LMTD / ( (1/α_it) + (δ_r/λ_r) + (1/α_p))\n",
    "    α_it = ( (C * ((1+x) / (1-x))**1.16) / ((G_0 * r_0) / q)**0.1 ) * α_0l\n",
    "\n",
    "    print (\"* Współczynnik przejmowania ciepła: %.3f [W/m2K]\" % α_it)\n",
    "\n",
    "α_0 = α_it"
   ]
  },
  {
   "cell_type": "code",
   "execution_count": null,
   "metadata": {
    "collapsed": true
   },
   "outputs": [],
   "source": []
  }
 ],
 "metadata": {
  "anaconda-cloud": {},
  "kernelspec": {
   "display_name": "Python [conda root]",
   "language": "python",
   "name": "conda-root-py"
  },
  "language_info": {
   "codemirror_mode": {
    "name": "ipython",
    "version": 3
   },
   "file_extension": ".py",
   "mimetype": "text/x-python",
   "name": "python",
   "nbconvert_exporter": "python",
   "pygments_lexer": "ipython3",
   "version": "3.5.2"
  }
 },
 "nbformat": 4,
 "nbformat_minor": 0
}
