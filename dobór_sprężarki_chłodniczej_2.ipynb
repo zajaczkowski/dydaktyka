{
 "cells": [
  {
   "cell_type": "markdown",
   "metadata": {},
   "source": [
    "## Obliczanie parametrów pracy sprężarki chłodniczej dla dowolnego czynnika chłodniczego\n",
    "Opracowanie: Bartosz Zajaczkowski ([bartosz.zajaczkowski@pwr.edu.pl](mailto:bartosz.zajaczkowski@pwr.edu.pl) )\n",
    "\n",
    "Politechnika Wrocławska, Wydział Mechaniczno-Energetyczny\n",
    "Katedra Termodynamiki, Teorii Maszyn i Urządzeń Cieplnych \n",
    "\n",
    "Wyb. Wyspiańskiego 27, 50-370 Wrocław, T: +48 71 320 3505, W: http://fluid.itcmp.pwr.edu.pl/~zajaczkowski\n",
    "\n",
    "**Uaktualnione: 1.03.2018**\n",
    "\n",
    "Przedstawiony poniżej algorytm umożliwia przeliczenie parametrów pracy sprężarki chłodniczej opisanej przez producenta dla określonego czynnika chłodniczego, na parametry pracy dla dowolnego innego czynnika. \n",
    "\n",
    "### Nomenklatura\n",
    "* **referencyjny czynnik chłodniczy** - czynnik, dla którego producent opisał szczegółowe parametry pracy sprężarki (np. R22 lub R134a)\n",
    "* **docelowy czynnik chłodniczy** - czynnik, który docelowo zostanie wykorzystany w instalacji chłodniczej - najczęściej będzie to jeden z nowych czynników, które mają zastąpić wycofane CFC, HCFC oraz wycofywane HFC.\n",
    "\n",
    "### Procedura doboru sprężarki chłodniczej \n",
    "1. [Wstępne założenie parametrów pracy obiegu chłodniczego/pompy ciepła](#Wstępne-założenie-parametrów-pracy-obiegu-chłodniczego/pompy-ciepła)\n",
    "2. [Identyfikacja obiegu chłodniczego dla docelowego czynnika chłodniczego](#Identyfikacja-obiegu-chłodniczego-dla-docelowego-czynnika-chłodniczego)\n",
    "3. [Dobór sprężarki z katalogu producenta dla wskazanego referencyjnego czynnika chłodniczego](#Dobór-sprężarki-z-katalogu-producenta-dla-wskazanego-referencyjnego-czynnika-chłodniczego)\n",
    "4. [Identyfikacja obiegu chłodniczego dla referencyjnego czynnika chłodniczego](#Identyfikacja-obiegu-chłodniczego-dla-referencyjnego-czynnika-chłodniczego)\n",
    "5. [Sprawdzenie warunku sprężu](#Sprawdzenie-warunku-sprężu)\n",
    "6. [Obliczenie sprawności izentropowej $n$ dla czynnika referencyjnego](#Obliczenie-sprawności-izentropowej-$n$-dla-czynnika-referencyjnego)\n",
    "7. [Obliczenie stopnia dostarczania $\\lambda$](#Obliczenie-stopnia-dostarczania-$\\lambda$)\n",
    "8. [Sprawdzenie warunku wydajności chłodniczej $Q_0$ sprężarki dla czynnika docelowego](#Sprawdzenie-warunku-wydajności-chłodniczej-$Q_0$-sprężarki-dla-czynnika-docelowego)\n",
    "9. [Sprawdzenie warunku mocy sprężarki $L$ dla czynnika docelowego](#Sprawdzenie-warunku-mocy-sprężarki-$L$-dla-czynnika-docelowego)\n",
    "10. [Wizualizacja obiegów na wykresie $\\mathrm{log}\\,p-h$](#Wizualizacja-obiegów-na-wykresie-$\\mathrm{log}\\,p-h$)"
   ]
  },
  {
   "cell_type": "code",
   "execution_count": 1,
   "metadata": {},
   "outputs": [
    {
     "name": "stdout",
     "output_type": "stream",
     "text": [
      "Populating the interactive namespace from numpy and matplotlib\n"
     ]
    }
   ],
   "source": [
    "%pylab inline\n",
    "import CoolProp.CoolProp as CP"
   ]
  },
  {
   "cell_type": "markdown",
   "metadata": {},
   "source": [
    "# Obliczenia obiegów i dobór sprężarki"
   ]
  },
  {
   "cell_type": "markdown",
   "metadata": {},
   "source": [
    "### Wstępne założenie parametrów pracy obiegu chłodniczego/pompy ciepła\n",
    "Sprężarkę zawsze dobiera się dla wstępnie znanych/zakładanych parametrów obiegu chłodniczego/pompy ciepła. \n",
    "\n",
    "Odpowiednio:\n",
    "* wydajność chłodnicza $Q_0$\n",
    "* temperatura parowania $T_0$\n",
    "* temperatura skraplania $T_k$\n",
    "* temperatura przegrzania $\\Delta T_{sup}$\n",
    "\n",
    "Wg EN-12900, w obliczeniu obiegu nie bierze się pod uwagę dochłodzenia."
   ]
  },
  {
   "cell_type": "code",
   "execution_count": 2,
   "metadata": {
    "collapsed": true
   },
   "outputs": [],
   "source": [
    "# wydajność systemu chłodniczego\n",
    "Q_0 = 12000 # [kW]\n",
    "\n",
    "# temperatura wrzenia czynnika chłodniczego\n",
    "T_0 = 0 + 273.15 # [K]\n",
    "\n",
    "# założone przegrzanie par czynnika (efekt działania termostatycznego zaworu dławiącego, itp.)\n",
    "dT_sup = 20 # [°C] - wg. EN 12900\n",
    "\n",
    "#temperatura skraplania czynnika chłodniczego\n",
    "T_k = 40 + 273.15 # [K]"
   ]
  },
  {
   "cell_type": "markdown",
   "metadata": {},
   "source": [
    "### Identyfikacja referencyjnego obiegu chłodniczego (dla referencyjnego czynnika chłodniczego)\n",
    "W pierwszej kolejności należy przeprowadzić identyfikację obiegu chłodniczego dla czynnika referencyjnego, w taki sam sposób jak czynnika docelowego. Celem jest ustalenie strumienia przepływu masy referencyjnego czynnika chłodniczego oraz wyznaczenie objętości właściwej par czynnika na wlocie do sprężarki.\n",
    "\n",
    "Dla wyróżnienia, wszystkie parametry refencyjnego czynnika chłodniczego oznaczone są indeksem *ref*.\n",
    "\n",
    "Katalogi udostępniane przez producentów sprężarek zwykle podają charakterystyki pracy urządzeń dla czynnika referencyjnego, np. **R22** lub **R134a**. Aby wykorzystać dane urządzenie z naszym docelowym czynnikiem chłodniczym, z  katalogu należy dobrać sprężarkę dla założonych parametrów pracy, ale dla referencyjnego czynnika chłodniczego, a następnie dokonać przeliczenia parametrów pracy dla czynnika docelowego."
   ]
  },
  {
   "cell_type": "code",
   "execution_count": 3,
   "metadata": {
    "collapsed": true
   },
   "outputs": [],
   "source": [
    "# czynnik referencyjny do doboru sprężarki\n",
    "refrigerant_ref = \"R22\""
   ]
  },
  {
   "cell_type": "markdown",
   "metadata": {},
   "source": [
    "Następnie wyznacza się ciśnienia pracy dla założonych temperatur parowania i skraplania, po czym oblicza się wartości entalpii w punktach charakterystycznych obiegu. Znajomość entalpii pozwala obliczyć właściwe ciepło parowania, skraplania oraz właściwą pracę sprężania. \n",
    "\n",
    "Ciepło właściwe parowania:\n",
    "$$q_0 = h_1 - h_4$$\n",
    "Ciepło właściwe skraplania:\n",
    "$$q_k = h_2 - h_3$$\n",
    "Właściwa praca obiegu:\n",
    "$$l_{ob} = h_2 - h_1$$\n",
    "\n",
    "W następnej kolejności można obliczyć strumień masy czynnika chłodniczego, teoretyczną wydajność cieplną skraplacza oraz teoretyczną moc sprężarki.\n",
    "\n",
    "Strumień masy czynnika chłodniczego:\n",
    "$$m_0 = \\frac{Q_0}{q_0}$$\n",
    "\n",
    "Teoretyczna wydajność cieplna skraplacza:\n",
    "$$Q_k = m_0 \\cdot q_k$$\n",
    "\n",
    "Teoretyczna moc sprężarki:\n",
    "$$L = m_0 \\cdot l_{ob}$$"
   ]
  },
  {
   "cell_type": "code",
   "execution_count": 4,
   "metadata": {},
   "outputs": [
    {
     "name": "stdout",
     "output_type": "stream",
     "text": [
      "* Strumień masy czynnika chłodniczego: 0.071 [kg/s]\n",
      "* Objętość właściwa par czynnika referencyjnego na wlocie do sprężarki: 0.052 [m3/kg]\n"
     ]
    }
   ],
   "source": [
    "# ciśnienia pracy w obiegu referencyjnym\n",
    "p_0_ref = CP.PropsSI('P','Q',1,'T',T_0,refrigerant_ref)\n",
    "p_k_ref = CP.PropsSI('P','Q',1,'T',T_k,refrigerant_ref)\n",
    "\n",
    "# wartości entalpii oraz entropii w punktach składających się na obieg referencyjny\n",
    "if dT_sup > 0: h1_ref = CP.PropsSI('H','P',p_0_ref,'T',T_0+dT_sup,refrigerant_ref)\n",
    "else: h1_ref = CP.PropsSI('H','Q',1,'T',T_0,refrigerant_ref)\n",
    "s1_ref = CP.PropsSI('S','H',h1_ref,'P',p_0_ref,refrigerant_ref)\n",
    "h2_ref = CP.PropsSI('H','S',s1_ref,'P',p_k_ref,refrigerant_ref)\n",
    "h3_ref = CP.PropsSI('H','Q',0,'T',T_k,refrigerant_ref)\n",
    "h4_ref = h3_ref\n",
    "\n",
    "# właściwa wydajność chłodnicza parownika oraz praca sprężarki\n",
    "q_0_ref = h1_ref - h4_ref\n",
    "q_k_ref = h2_ref - h3_ref\n",
    "l_ob_ref = h2_ref - h1_ref\n",
    "\n",
    "# strumień masy czynnika referencyjnego dla znanej wydajności chłodniczej\n",
    "m_0_ref = Q_0 / q_0_ref\n",
    "print (\"* Strumień masy czynnika chłodniczego: %.3f [kg/s]\" % m_0_ref)\n",
    "\n",
    "# objętość właściwa par czynnika referencyjnego na wlocie do sprężarki\n",
    "v1_ref = 1 / CP.PropsSI('D','H',h1_ref,'P',p_0_ref,refrigerant_ref)\n",
    "print (\"* Objętość właściwa par czynnika referencyjnego na wlocie do sprężarki: %.3f [m3/kg]\" % v1_ref)"
   ]
  },
  {
   "cell_type": "code",
   "execution_count": 5,
   "metadata": {},
   "outputs": [
    {
     "name": "stdout",
     "output_type": "stream",
     "text": [
      "* Strumień objętości pary przetłaczany przez sprężarkę: 13.219 [m3/h]\n",
      "* Właściwa objętościowa wydajność chłodnicza: 3268038 [J/m3]\n"
     ]
    }
   ],
   "source": [
    "# strumień objętości pary czynnika referencyjnego przetłaczanej przez sprężarkę\n",
    "V_sk_ref = (m_0_ref * v1_ref) * 3600\n",
    "print (\"* Strumień objętości pary przetłaczany przez sprężarkę: %.3f [m3/h]\" % (V_sk_ref))\n",
    "\n",
    "# właściwa objętościowa wydajność chłodnicza obliczona dla czynnika referencyjnego\n",
    "q_v_ref = q_0_ref / v1_ref\n",
    "print (\"* Właściwa objętościowa wydajność chłodnicza: %.0f [J/m3]\" % (q_v_ref))"
   ]
  },
  {
   "cell_type": "markdown",
   "metadata": {},
   "source": [
    "Teoretyczna wydajność ziębienia oraz moc sprężarki obliczone dla czynnika referencyjnego."
   ]
  },
  {
   "cell_type": "code",
   "execution_count": 6,
   "metadata": {
    "scrolled": true
   },
   "outputs": [
    {
     "name": "stdout",
     "output_type": "stream",
     "text": [
      "* Teoretyczna wydajność chłodnicza sprężarki: 12000 [W]\n",
      "* Teoretyczna moc sprężarki: 2188 [W]\n"
     ]
    }
   ],
   "source": [
    "Q0_t_ref = V_sk_ref * q_v_ref / (3600)\n",
    "print (\"* Teoretyczna wydajność chłodnicza sprężarki: %.0f [W]\" % (Q0_t_ref))\n",
    "\n",
    "L_t_ref = m_0_ref * l_ob_ref\n",
    "print (\"* Teoretyczna moc sprężarki: %.0f [W]\" % (L_t_ref))"
   ]
  },
  {
   "cell_type": "markdown",
   "metadata": {},
   "source": [
    "### Dobór sprężarki dla wskazanego referencyjnego czynnika chłodniczego (z katalogu producenta)"
   ]
  },
  {
   "cell_type": "markdown",
   "metadata": {},
   "source": [
    "Posługując się kartą katalogową lub programem komputerowym, należy ustalić wartości trzech parametrów pracy urządzenia. Parametrów które zostaną następnie wykorzystane do przeliczenia wydajności ziębniczej i mocy sprężarki na wartości osiągane przy zastosowaniu czynnika docelowego . Są to odpowiednio:\n",
    "* **Pojemność skokowa** [m<sup>3</sup>/h] (teoretyczny strumień objętości pary przetłaczany przez sprężarkę.)\n",
    "* **Wydajność ziębnicza** w założonym punkcie pracy [W]\n",
    "* **Moc sprężarki** w założonym punkcie pracy [W]\n",
    "\n",
    "Jeżeli w katalogu producenta nie ma podanej pojemności skokowej m<sup>3</sup>/h to trzeba ją wyliczyć. Należy odczytać w tym celu **pojemność cylindra** wyrażoną zwykle w cm<sup>3</sup> i przeliczyć ją na m<sup>3</sup> mnożąc razy 10<sup>-6</sup>/h. Następnie uzyskaną wartość **pomnożyć przez** podaną przez producenta **wartość obrotów silnika** (pamiętając o przeliczeniu ich z min<sup>-1</sup> na h<sup>-1</sup>)."
   ]
  },
  {
   "cell_type": "code",
   "execution_count": 7,
   "metadata": {},
   "outputs": [
    {
     "name": "stdout",
     "output_type": "stream",
     "text": [
      "* Pojemność skokowa: 16.730 [m3/h]\n",
      "* Wydajność ziębnicza: 12555.000 [W]\n",
      "* Moc sprężarki: 3794.000 [W]\n"
     ]
    }
   ],
   "source": [
    "# odczytana z katalogu pojemność skokowa\n",
    "V_th = 16.73\n",
    "print (\"* Pojemność skokowa: %.3f [m3/h]\" % (V_th))\n",
    "\n",
    "# odczytana z katalogu rzeczywista wydajność sprężarki\n",
    "Q0_rz_ref = 12555 # [W] - przykładowa wartość wprowadzona na podstawie katalogu\n",
    "print (\"* Wydajność ziębnicza: %.3f [W]\" % (Q0_rz_ref)) \n",
    "\n",
    "# odczytana z katalogu rzeczywista moc sprężarki\n",
    "L_rz_ref = 3794 # [W] -  przykładowa wartość wprowadzona na podstawie katalogu\n",
    "print (\"* Moc sprężarki: %.3f [W]\" % (L_rz_ref)) "
   ]
  },
  {
   "cell_type": "markdown",
   "metadata": {},
   "source": [
    "### Identyfikacja obiegu chłodniczego dla docelowego czynnika chłodniczego\n",
    "\n",
    "Przystępując do identyfikacji w pierwszej kolejności należy wskazać czynnik chłodniczy, który docelowo ma funkcjonować w projektowanym obiegu."
   ]
  },
  {
   "cell_type": "code",
   "execution_count": 8,
   "metadata": {
    "collapsed": true
   },
   "outputs": [],
   "source": [
    "refrigerant = \"R1234yf\""
   ]
  },
  {
   "cell_type": "markdown",
   "metadata": {},
   "source": [
    "A następnie przeprowadzić obliczenia obiegu w sposób analogiczny jak dla czynnika referencyjnego."
   ]
  },
  {
   "cell_type": "code",
   "execution_count": 9,
   "metadata": {},
   "outputs": [
    {
     "name": "stdout",
     "output_type": "stream",
     "text": [
      "* Strumień masy czynnika chłodniczego: 0.094 [kg/s]\n",
      "* Objętość właściwa par czynnika docelowego na wlocie do sprężarki: 0.062 [m3/kg]\n"
     ]
    }
   ],
   "source": [
    "# ciśnienia pracy w obiegu docelowym\n",
    "p_0 = CP.PropsSI('P','Q',1,'T',T_0,refrigerant)\n",
    "p_k = CP.PropsSI('P','Q',1,'T',T_k,refrigerant)\n",
    "\n",
    "# wartości entalpii oraz entropii w punktach składających się na obieg docelowy\n",
    "if dT_sup > 0: h1 = CP.PropsSI('H','P',p_0,'T',T_0+dT_sup,refrigerant)\n",
    "else: h1 = CP.PropsSI('H','Q',1,'T',T_0,refrigerant)\n",
    "s1 = CP.PropsSI('S','H',h1,'P',p_0,refrigerant)\n",
    "h2 = CP.PropsSI('H','S',s1,'P',p_k,refrigerant)\n",
    "h3 = CP.PropsSI('H','Q',0,'T',T_k,refrigerant)\n",
    "h4 = h3\n",
    "\n",
    "# właściwa wydajność chłodnicza parownika oraz praca sprężarki\n",
    "q_0 = h1 - h4\n",
    "q_k = h2 - h3\n",
    "l_ob = h2 - h1\n",
    "\n",
    "# strumień masy czynnika docelowego dla znanej wydajności chłodniczej (projektowanej)\n",
    "m_0 = Q_0 / q_0\n",
    "print (\"* Strumień masy czynnika chłodniczego: %.3f [kg/s]\" % m_0)\n",
    "\n",
    "# objętość właściwa par czynnika docelowego na wlocie do sprężarki\n",
    "v1 = 1 / CP.PropsSI('D','H',h1,'P',p_0,refrigerant)\n",
    "v2 = 1 / CP.PropsSI('D','H',h2,'P',p_0,refrigerant)\n",
    "print (\"* Objętość właściwa par czynnika docelowego na wlocie do sprężarki: %.3f [m3/kg]\" % v1)"
   ]
  },
  {
   "cell_type": "code",
   "execution_count": 10,
   "metadata": {},
   "outputs": [
    {
     "name": "stdout",
     "output_type": "stream",
     "text": [
      "* Strumień objętości pary przetłaczany przez sprężarkę: 21.247 [m3/h]\n",
      "* Właściwa objętościowa wydajność chłodnicza: 3268038 [J/m3]\n"
     ]
    }
   ],
   "source": [
    "# strumień objętości pary czynnika docelowego przetłaczanej przez sprężarkę\n",
    "V_sk = (m_0 * v1) * 3600\n",
    "print (\"* Strumień objętości pary przetłaczany przez sprężarkę: %.3f [m3/h]\" % (V_sk))\n",
    "\n",
    "# właściwa objętościowa wydajność chłodnicza obliczona dla czynnika docelowego\n",
    "q_v = q_0_ref / v1_ref\n",
    "print (\"* Właściwa objętościowa wydajność chłodnicza: %.0f [J/m3]\" % (q_v))"
   ]
  },
  {
   "cell_type": "markdown",
   "metadata": {},
   "source": [
    "Teoretyczna wydajność ziębienia oraz moc sprężarki obliczone dla czynnika docelowego."
   ]
  },
  {
   "cell_type": "code",
   "execution_count": 11,
   "metadata": {},
   "outputs": [
    {
     "name": "stdout",
     "output_type": "stream",
     "text": [
      "* Teoretyczna wydajność chłodnicza sprężarki: 15187 [W]\n",
      "* Teoretyczna moc sprężarki: 2197 [W]\n"
     ]
    }
   ],
   "source": [
    "Q0_t = V_th * q_v / (3600)\n",
    "print (\"* Teoretyczna wydajność chłodnicza sprężarki: %.0f [W]\" % (Q0_t))\n",
    "\n",
    "L_t = m_0 * l_ob\n",
    "print (\"* Teoretyczna moc sprężarki: %.0f [W]\" % (L_t))"
   ]
  },
  {
   "cell_type": "markdown",
   "metadata": {},
   "source": [
    "# Weryfikacja dobranej sprężarki dla czynnika docelowego"
   ]
  },
  {
   "cell_type": "markdown",
   "metadata": {},
   "source": [
    "### Sprawdzenie warunku sprężu\n",
    "Przed przystąpieniem do dalszych obliczeń należy przyjrzeć się jaki spręż jest niezbędny do realizacji sprężania obu analizowanych czynników. Generalnie stopień dostarczania sprężarki jest zależny (przede wszystkim) od wartości sprężu, dlatego należy sprawdzić czy dla analizowanych czynników wartości sprężu nie będą się znacząco od siebie nie różnić.\n",
    "$$\\Pi = \\frac{p_0}{p_k}$$\n",
    "\n",
    "Na potrzeby obliczeń projektowych powinno się przyjąć, że różnica nie powinna przekraczać kilku procent (nie jest to sztywna reguła). Jeśli różnica jest zbyt duża należy założyć, że konkretny rozpatrywany model sprężarki nie będzie sie nadawać do zastosowania z docelowym, planowanym w projekcie czynnikiem roboczym. Trzeba wtedy wybrać inny model sprężarki lub rozważyć zmianę czynnika.\n",
    "\n"
   ]
  },
  {
   "cell_type": "code",
   "execution_count": 12,
   "metadata": {},
   "outputs": [
    {
     "name": "stdout",
     "output_type": "stream",
     "text": [
      "Stopień sprężania R22: 3.080\n",
      "Stopień sprężania R1234yf: 3.225\n",
      "Różnica: 4.5%\n"
     ]
    }
   ],
   "source": [
    "print (\"Stopień sprężania %s: %.3f\" % (refrigerant_ref,p_k_ref/p_0_ref))\n",
    "print (\"Stopień sprężania %s: %.3f\" % (refrigerant,p_k/p_0))\n",
    "\n",
    "print (\"Różnica: %.1f%%\" % ((1-(p_k_ref/p_0_ref)/(p_k/p_0))*100))"
   ]
  },
  {
   "cell_type": "markdown",
   "metadata": {},
   "source": [
    "### Obliczenie stopnia dostarczania $\\lambda$\n",
    "\n",
    "**Stopień dostarczania** (nazywany również współczynnikiem przetłaczania lub sprawnością objętościową sprężarki) jest to  stosunek ilościowy pary przetłaczanej przez sprężarkę $\\dot{V_{sk}}$ do jej teoretycznej wydajności skokowej $\\dot{V_{th}}$.\n",
    "\n",
    "$$\\lambda_{sp} = \\frac{\\dot{V_{sk}}}{\\dot{V_{th}}}$$\n",
    "\n",
    "Współczynnik ten odzwierciedla wszystkie straty występujące w sprężarce rzeczywistej.\n",
    "\n",
    "$$\\lambda_{sp} = \\lambda_V \\lambda_D \\lambda_T \\lambda_N$$\n",
    "\n",
    "gdzie poszczególne składowe iloczynu to odpowiednio:\n",
    "\n",
    "* $\\lambda_V$ - **wskaźnik przestrzeni szkodliwej** (biorący pod uwagę wpływ wartości względnej przestrzeni szkodliwej, zastępczego wykładnika politropy rozprężania oraz wartości sprężu).\n",
    "* $\\lambda_D$ - **wskaźnik strat dławienia** w zaworach roboczych sprężarki [-]\n",
    "* $\\lambda_T$ - **wskaźnik oddziaływania termicznego ścian cylindrów**. W przybliżeniu $\\lambda_T = T_0 / T_k$ [-]\n",
    "* $\\lambda_N$ - **wskaźnik strat nieszczelności** - przyjąć $\\lambda_N = 0.98$ (wartość typowa dla nowych sprężarek to 0.99, dla sprężarek częściowo wyeksplowatowanych 0.95-0.98) [-]\n",
    "\n",
    "Dla sprężarek napełnianych czynnikami syntetycznymi wartości stopnia dostarczania wahają sie w granicach od 0.6 do 0.9."
   ]
  },
  {
   "cell_type": "markdown",
   "metadata": {},
   "source": [
    "#### Obliczanie wskaźnika przestrzeni szkodliwej\n",
    "Wskaźnik przestrzeni szkodliwej $\\lambda_V$ oblicza się z zależności:\n",
    "\n",
    "$$\\lambda_V = 1 + C - C \\cdot \\left( \\frac{p_k}{p_0} \\right)^\\frac{1}{\\gamma}$$\n",
    "\n",
    "Współczynnik przestrzeni szkodliwej $C$ jest to stosunek pojemności skokowej do objętości przestrzeni szkodliwej.\n",
    "\n",
    "$$C = \\frac{\\dot{V_{sp}}}{\\dot{V_{szk}}}$$\n",
    "\n",
    "Jego wartość zwykle nie przekracza 0.05 i tyle należy przyjąć na potrzeby niniejszych obliczeń.\n",
    "\n",
    "Wykładnik politropy dla sprężania izentropowego $\\gamma$:\n",
    "\n",
    "$$\\gamma = \\frac{c_p}{c_v}$$\n",
    "\n",
    "#### Obliczanie wskaźnika oddziaływania termicznego\n",
    "Przybliżoną wartość współczynnika oddziaływania termicznego można obliczyć na podstawie stosunku temperatur.\n",
    "$$\\lambda_T = \\frac{T_0}{T_k}$$"
   ]
  },
  {
   "cell_type": "code",
   "execution_count": 13,
   "metadata": {},
   "outputs": [
    {
     "name": "stdout",
     "output_type": "stream",
     "text": [
      "* Wskaźnik przestrzeni szkodliwej λ_V: 0.909 [-]\n",
      "* Wskaźnik strat dławienia λ_D: 0.950 [-]\n",
      "* Wskaźnik oddziaływania termicznego λ_T: 0.872 [-]\n",
      "* Wskaźnik strat nieszczelności λ_N: 0.990 [-]\n"
     ]
    }
   ],
   "source": [
    "# współczynnik przestrzeni szkodliwej\n",
    "C = 0.05\n",
    "# wykładnik politropy\n",
    "γ = CP.PropsSI('C','H',h1,'P',p_0,refrigerant) / CP.PropsSI('O','H',h1,'P',p_0,refrigerant)\n",
    "# wskaźnik przestrzeni szkodliwej\n",
    "λ_V = 1 + C - C * pow(p_k/p_0,1/γ)\n",
    "print (\"* Wskaźnik przestrzeni szkodliwej λ_V: %.3f [-]\" % (λ_V))\n",
    "\n",
    "# wskaźnik strat dławienia\n",
    "λ_D = 0.95\n",
    "print (\"* Wskaźnik strat dławienia λ_D: %.3f [-]\" % (λ_D))\n",
    "\n",
    "# wskaźnik oddziaływania termicznego\n",
    "λ_T = T_0/T_k\n",
    "print (\"* Wskaźnik oddziaływania termicznego λ_T: %.3f [-]\" % (λ_T))\n",
    "\n",
    "# wskaźnik strat nieszczelności\n",
    "λ_N = 0.99\n",
    "print (\"* Wskaźnik strat nieszczelności λ_N: %.3f [-]\" % (λ_N))"
   ]
  },
  {
   "cell_type": "code",
   "execution_count": 14,
   "metadata": {},
   "outputs": [
    {
     "name": "stdout",
     "output_type": "stream",
     "text": [
      "* Stopień dostarczania λ: 0.746 [-]\n"
     ]
    }
   ],
   "source": [
    "λ_sp = λ_V * λ_D * λ_T * λ_N\n",
    "print (\"* Stopień dostarczania λ: %.3f [-]\" % (λ_sp))"
   ]
  },
  {
   "cell_type": "markdown",
   "metadata": {},
   "source": [
    "### Sprawdzenie warunku wydajności chłodniczej $Q_0$ sprężarki dla czynnika docelowego\n",
    "\n",
    "Przyjmując założenie, że stopień dostarczania pozostaje taki sam bez względu na zastosowany czynnik (przy założeniu, że spręże dla obu czynników nie odbiegają od siebie zbytnio), można teraz obliczyć:\n",
    "* strumień masy czynnika docelowego \n",
    "* wydajność ziębienia tej sprężarki przy zastosowaniu czynnika docelowego.\n",
    "\n",
    "Jeżeli obliczona wydajność ziębienia **jest większa lub równa projektowanej**, oznacza to że sprężarka została dobrana prawidłowo."
   ]
  },
  {
   "cell_type": "code",
   "execution_count": 17,
   "metadata": {},
   "outputs": [
    {
     "name": "stdout",
     "output_type": "stream",
     "text": [
      "* Strumień masy czynnika docelowego przetłaczany przez sprężarkę: 0.055 [kg/s]\n",
      "* Wydajność ziębienia przy docelowym czynniku: 7.046 [kW]\n",
      "* Moc sprężarki (teoretyczna): 1.290 [kW]\n",
      "* Moc sprężarki podana przez producenta: 3794.000 [W]\n"
     ]
    }
   ],
   "source": [
    "# strumień masy czynnika docelowego przy założeniu, że stopień dostarczania pozostaje taki sam\n",
    "# jak dla czynnika referencyjnego\n",
    "m_0 = λ_sp * V_th / (3600 * v1)\n",
    "print (\"* Strumień masy czynnika docelowego przetłaczany przez sprężarkę: %.3f [kg/s]\" % (m_0))\n",
    "\n",
    "Q_0_sp = m_0 * q_0\n",
    "print (\"* Wydajność ziębienia przy docelowym czynniku: %.3f [kW]\" % (Q_0_sp/1000))\n",
    "\n",
    "L_sp = m_0 * l_ob\n",
    "print (\"* Moc sprężarki (teoretyczna): %.3f [kW]\" % (L_sp/1000))\n",
    "print (\"* Moc sprężarki podana przez producenta: %.3f [W]\" % (L_rz_ref))"
   ]
  },
  {
   "cell_type": "markdown",
   "metadata": {},
   "source": [
    "### Obliczenie sprawności izentropowej $n$ i mocy sprężarki\n",
    "Sprawność izentropową urządzenia oblicza się porównując teoretyczną moc sprężarki dla czynnika referencyjnego $L_{t,ref}$ do mocy podanej przez producenta dla zadanych warunków pracy dla czynnika referencyjnego $L_{rz,ref}$. Tak obliczona sprawność izentropowa zostanie potem wykorzystana do obliczenia parametrów pracy sprężarki po zastosowaniu czynnika docelowego."
   ]
  },
  {
   "cell_type": "code",
   "execution_count": 16,
   "metadata": {},
   "outputs": [
    {
     "name": "stdout",
     "output_type": "stream",
     "text": [
      "* Współczynnik sprawności izentropowej n: 0.577 [-]\n",
      "* Moc sprężarki (po uwzględnieniu sprawności izentropowej): 2236.354 [W]\n"
     ]
    }
   ],
   "source": [
    "n_sp = L_t_ref / L_rz_ref\n",
    "print (\"* Współczynnik sprawności izentropowej n: %.3f [-]\" % (n_sp)) \n",
    "print (\"* Moc sprężarki (po uwzględnieniu sprawności izentropowej): %.3f [W]\" % (L_sp/n_sp))"
   ]
  },
  {
   "cell_type": "markdown",
   "metadata": {},
   "source": [
    "### Sprawdzenie czy silnik sprężarki posiada wystarczającą moc $L$ dla czynnika docelowego\n",
    "\n",
    "Na sam koniec należy sprawdzić moc podana przez producenta (dla czynnika referencyjnego i danego punktu pracy) **jest większa niż moc wyliczona dla nowego czynnika przy uwzględnieniu sprawności izentropowej *n***. Jak ten warunek nie jest spełniony to sprężarka może mieć ma za słaby napęd, aby poradzić sobie z nowym czynnikiem (w danym punktcie pracy)."
   ]
  },
  {
   "cell_type": "code",
   "execution_count": 18,
   "metadata": {},
   "outputs": [
    {
     "name": "stdout",
     "output_type": "stream",
     "text": [
      "DOBRZE! Sprężarka wygląda na dobraną prawidłowo!\n"
     ]
    }
   ],
   "source": [
    "if (L_sp/n_sp) < L_rz_ref: print (\"DOBRZE! Sprężarka wygląda na dobraną prawidłowo!\")\n",
    "else: print (\"ŻLE! Sprężarka dobrana nieprawidłowo!\")"
   ]
  },
  {
   "cell_type": "markdown",
   "metadata": {},
   "source": [
    "### Wizualizacja obiegów na wykresie $\\mathrm{log}\\,p-h$\n",
    "\n",
    "W pierwszej kolejności należy obliczyć wartość entalpii na końcu procesu sprężania z uwzględnieniem sprawności izentropowej $n$, proporcjonalnie za pomocą wrozu:\n",
    "\n",
    "$$h_{2^\\prime} = h_1 + \\frac{h_2 - h_1}{n}$$\n",
    "\n",
    "Obliczenie korekcyjne wykonuje się dla położenia punktu 2 na wykresie dla czynnika docelowego oraz referencyjnego użytego do doboru sprężakrki."
   ]
  },
  {
   "cell_type": "code",
   "execution_count": 19,
   "metadata": {
    "collapsed": true
   },
   "outputs": [],
   "source": [
    "# czynnik docelowy\n",
    "h2b = h1 + (h2 - h1) / n_sp\n",
    "\n",
    "# czynnik referencyjny\n",
    "h2b_ref = h1_ref + (h2_ref - h1_ref) / n_sp"
   ]
  },
  {
   "cell_type": "markdown",
   "metadata": {},
   "source": [
    "Wyznaczenie linii nasycenia cieczy i pary obu czynników."
   ]
  },
  {
   "cell_type": "code",
   "execution_count": 20,
   "metadata": {},
   "outputs": [
    {
     "name": "stdout",
     "output_type": "stream",
     "text": [
      "* Ciśnienie krytyczne R1234yf: 3382200 [Pa]\n",
      "* Ciśnienie krytyczne R22: 4990000 [Pa]\n"
     ]
    }
   ],
   "source": [
    "steps = 60\n",
    "pres = ones(steps)\n",
    "satl = zeros(steps)\n",
    "satv = zeros(steps)\n",
    "pres_ref = ones(steps)\n",
    "satl_ref = zeros(steps)\n",
    "satv_ref = zeros(steps)\n",
    "\n",
    "p_min = p_0 - 50000\n",
    "p_crit = CP.PropsSI(refrigerant,'pcrit')\n",
    "p_step = (p_crit - p_min)/(steps-1)\n",
    "\n",
    "for i in range(0,steps):\n",
    "    pres[i] = p_min + i * p_step\n",
    "    satl[i] = CP.PropsSI('H','Q',0,'P',pres[i],refrigerant)\n",
    "    satv[i] = CP.PropsSI('H','Q',1,'P',pres[i],refrigerant)\n",
    "\n",
    "print (\"* Ciśnienie krytyczne %s: %.0f [Pa]\" % (refrigerant, p_crit))\n",
    "\n",
    "p_min_ref = p_0 - 50000\n",
    "p_crit_ref = CP.PropsSI(refrigerant_ref,'pcrit')\n",
    "p_step_ref = (p_crit_ref - p_min_ref)/(steps-1)\n",
    "\n",
    "for i in range(0,steps):\n",
    "    pres_ref[i] = p_min_ref + i * p_step_ref\n",
    "    satl_ref[i] = CP.PropsSI('H','Q',0,'P',pres_ref[i],refrigerant_ref)\n",
    "    satv_ref[i] = CP.PropsSI('H','Q',1,'P',pres_ref[i],refrigerant_ref)\n",
    "\n",
    "print (\"* Ciśnienie krytyczne %s: %.0f [Pa]\" % (refrigerant_ref, p_crit_ref))"
   ]
  },
  {
   "cell_type": "markdown",
   "metadata": {},
   "source": [
    "#### Wykres porównawczy obu obiegów"
   ]
  },
  {
   "cell_type": "code",
   "execution_count": 21,
   "metadata": {},
   "outputs": [
    {
     "data": {
      "text/plain": [
       "Text(0,0.5,'Cisnienie [Pa]')"
      ]
     },
     "execution_count": 21,
     "metadata": {},
     "output_type": "execute_result"
    },
    {
     "data": {
      "image/png": "[encoded data removed]",
      "text/plain": [
       "<matplotlib.figure.Figure at 0x10c361828>"
      ]
     },
     "metadata": {},
     "output_type": "display_data"
    }
   ],
   "source": [
    "# plot results\n",
    "plt.figure()\n",
    "\n",
    "# grid and axes\n",
    "plt.axes([0.025, 0.025, 0.95, 0.95])\n",
    "plt.grid(which='major', axis='x', linewidth=0.25, linestyle='-', color='0.65')\n",
    "plt.grid(which='minor', axis='x', linewidth=0.25, linestyle='-', color='0.65')\n",
    "plt.grid(which='major', axis='y', linewidth=0.25, linestyle='-', color='0.65')\n",
    "plt.grid(which='minor', axis='y', linewidth=0.25, linestyle='-', color='0.65')\n",
    "\n",
    "# data\n",
    "plt.plot([h4,h1], [p_0,p_0], 'b-', linewidth=0.75)\n",
    "plt.plot([h1,h2b], [p_0,p_k], 'b-', linewidth=0.75)\n",
    "plt.plot([h2b,h3], [p_k,p_k], 'b-', linewidth=0.75)\n",
    "plt.plot([h3,h4], [p_k,p_0], 'b-', linewidth=0.75)\n",
    "\n",
    "plt.semilogy(satl, pres, 'b--', linewidth=0.75)\n",
    "plt.semilogy(satv, pres, 'b--', linewidth=0.75)\n",
    "\n",
    "# data (ref)\n",
    "plt.plot([h4_ref,h1_ref], [p_0_ref,p_0_ref], 'r-', linewidth=0.75)\n",
    "plt.plot([h1_ref,h2b_ref], [p_0_ref,p_k_ref], 'r-', linewidth=0.75)\n",
    "plt.plot([h2b_ref,h3_ref], [p_k_ref,p_k_ref], 'r-', linewidth=0.75)\n",
    "plt.plot([h3_ref,h4_ref], [p_k_ref,p_0_ref], 'r-', linewidth=0.75)\n",
    "\n",
    "plt.semilogy(satl_ref, pres_ref, 'r--', linewidth=0.75)\n",
    "plt.semilogy(satv_ref, pres_ref, 'r--', linewidth=0.75)\n",
    "\n",
    "\n",
    "# opis punktów\n",
    "\n",
    "plt.annotate(refrigerant, \n",
    "             xy=(satl[round(0.6 * steps)],pres[round(0.6 * steps)]), xytext=(satl[round(0.9 * steps)]-160000,pres[round(0.9 * steps)]), bbox=dict(boxstyle=\"square\", fc=\"w\"),\n",
    "             arrowprops=dict(facecolor='red', arrowstyle=\"->\"), horizontalalignment='center', \n",
    "             verticalalignment='top', fontsize=10)\n",
    "plt.annotate(refrigerant_ref, \n",
    "             xy=(satl_ref[round(0.6 * steps)],pres_ref[round(0.6 * steps)]), xytext=(satl_ref[round(0.9 * steps)]-80000,pres_ref[round(0.9 * steps)]), bbox=dict(boxstyle=\"square\", fc=\"w\"),\n",
    "             arrowprops=dict(facecolor='red', arrowstyle=\"->\"), horizontalalignment='center', \n",
    "             verticalalignment='top', fontsize=10)\n",
    "\n",
    "plt.xlabel('Entalpia [J/kg]',fontsize=9)\n",
    "plt.ylabel('Cisnienie [Pa]',fontsize=9)"
   ]
  },
  {
   "cell_type": "code",
   "execution_count": null,
   "metadata": {
    "collapsed": true
   },
   "outputs": [],
   "source": []
  }
 ],
 "metadata": {
  "anaconda-cloud": {},
  "kernelspec": {
   "display_name": "Python 3",
   "language": "python",
   "name": "python3"
  },
  "language_info": {
   "codemirror_mode": {
    "name": "ipython",
    "version": 3
   },
   "file_extension": ".py",
   "mimetype": "text/x-python",
   "name": "python",
   "nbconvert_exporter": "python",
   "pygments_lexer": "ipython3",
   "version": "3.6.3"
  }
 },
 "nbformat": 4,
 "nbformat_minor": 1
}
